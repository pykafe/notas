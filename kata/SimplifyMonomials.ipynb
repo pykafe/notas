{
 "cells": [
  {
   "cell_type": "markdown",
   "id": "a443a54c-70f4-4aa3-9465-a9ed3b9188cc",
   "metadata": {},
   "source": [
    "# Simplifying multilinear polynomial stings\n",
    "\n",
    "https://www.codewars.com/kata/55f89832ac9a66518f000118/train/python\n",
    "\n",
    "When we attended middle school were asked to simplify mathematical expressions like \"3x-yx+2xy-x\" (or usually bigger), and that was easy-peasy (\"2x+xy\"). But tell that to your pc and we'll see!\n",
    "\n",
    "Write a function: simplify, that takes a string in input, representing a multilinear non-constant polynomial in integers coefficients (like \"3x-zx+2xy-x\"), and returns another string as output where the same expression has been simplified in the following way ( -> means application of simplify):\n",
    "\n",
    "All possible sums and subtraction of equivalent monomials (\"xy==yx\") has been done, e.g.:\n",
    "\"cb+cba\" -> \"bc+abc\", \"2xy-yx\" -> \"xy\", \"-a+5ab+3a-c-2a\" -> \"-c+5ab\"\n",
    "\n",
    "\n",
    "All monomials appears in order of increasing number of variables, e.g.:\n",
    "\"-abc+3a+2ac\" -> \"3a+2ac-abc\", \"xyz-xz\" -> \"-xz+xyz\"\n",
    "\n",
    "If two monomials have the same number of variables, they appears in lexicographic order, e.g.:\n",
    "\"a+ca-ab\" -> \"a-ab+ac\", \"xzy+zby\" ->\"byz+xyz\"\n",
    "\n",
    "There is no leading + sign if the first coefficient is positive, e.g.:\n",
    "\"-y+x\" -> \"x-y\", but no restrictions for -: \"y-x\" ->\"-x+y\"\n",
    "\n",
    "N.B. to keep it simplest, the string in input is restricted to represent only multilinear non-constant polynomials, so you won't find something like `-3+yx^2'. Multilinear means in this context: of degree 1 on each variable.\n",
    "\n",
    "Warning: the string in input can contain arbitrary variables represented by lowercase characters in the english alphabet."
   ]
  },
  {
   "cell_type": "markdown",
   "id": "c9bfe5ff-c0dd-4d09-a5ed-aa29e0d2be82",
   "metadata": {},
   "source": [
    "## Start with parsing the input string\n",
    "\n",
    "We need a terms array from the input string, tokenizing into elements\n",
    "\"cb+cba\" -> [\"bc\", \"+abc\"], [\"2xy-yx\" -> [\"2xy\",\"yx\"], \"-a+5ab+3a-c-2a\" -> [\"-a\",\"+5ab\", \"+3a\", \"-c\", \"-2a\"]"
   ]
  },
  {
   "cell_type": "code",
   "execution_count": 408,
   "id": "0fdd43d1-563d-4d73-a996-7f5a6d2693c5",
   "metadata": {},
   "outputs": [
    {
     "name": "stdout",
     "output_type": "stream",
     "text": [
      "+  d\n",
      "- 54 abc\n",
      "+ 4 rqs\n"
     ]
    }
   ],
   "source": [
    "import re\n",
    "\n",
    "TOKEN_REGEX = re.compile(\n",
    "    r'''\n",
    "    (?P<sign>[+-]?)       # sign group: 0 or 1 + or - characters\n",
    "    (?P<constant>\\d*)     # constant group: 0 or more digits\n",
    "    (?P<algebraic>[a-z]+) # algebraic group: 1 or more lowercase letters\n",
    "    ''',\n",
    "    re.X\n",
    ")\n",
    "\n",
    "for match in TOKEN_REGEX.finditer(\"+d-54abc+4rqs\"):\n",
    "    print(\n",
    "        match.group(\"sign\"),\n",
    "        match.group(\"constant\"),\n",
    "        match.group(\"algebraic\")\n",
    "    )\n"
   ]
  },
  {
   "cell_type": "markdown",
   "id": "55ecb9c3-949a-43dd-a57e-7b65b06d2ad8",
   "metadata": {},
   "source": [
    "## Now let's build a class that will describe a single multilinear term\n",
    "\n",
    "We want to take the tokenized input and turn it into something that we can work with.\n",
    "\n",
    "A term is uniquely defined by its constant and its algebraic part\n",
    "\n",
    "```python\n",
    "term = Term(2, 'a')\n",
    "term.constant # should be 2\n",
    "term.algebraic # should be 'a'\n",
    "\n",
    "term = Term(-5, 'bc')\n",
    "term.constant # should be -5\n",
    "term.algebraic # should be 'bc'\n",
    "\n",
    "```"
   ]
  },
  {
   "cell_type": "code",
   "execution_count": 407,
   "id": "db7b40b2-f0d8-4659-ba83-f11043e404a0",
   "metadata": {},
   "outputs": [
    {
     "data": {
      "text/plain": [
       "'10asxd'"
      ]
     },
     "execution_count": 407,
     "metadata": {},
     "output_type": "execute_result"
    }
   ],
   "source": [
    "class Term():\n",
    "    def __init__(self, constant=0, algebraic=''):\n",
    "        self.constant = constant\n",
    "        self.algebraic = algebraic\n",
    "   \n",
    "    def __str__(self):\n",
    "        return f\"{self.constant}{self.algebraic}\"\n",
    "\n",
    "str(Term(10, 'asxd'))\n"
   ]
  },
  {
   "cell_type": "markdown",
   "id": "e81f8dbf-db25-4ceb-aafe-91622a6541cd",
   "metadata": {},
   "source": [
    "## Creating terms from the parsed tokens\n",
    "\n",
    "Our regular expression produces 3 tokens, we need a method to create a method to produce a Term instance from the output of the regular expression"
   ]
  },
  {
   "cell_type": "code",
   "execution_count": 412,
   "id": "315aacaa-2bd9-4b2c-8ee4-4b33931f38fc",
   "metadata": {},
   "outputs": [
    {
     "name": "stdout",
     "output_type": "stream",
     "text": [
      "-4ax\n",
      "-3asd\n",
      "1xyz\n"
     ]
    }
   ],
   "source": [
    "class Term():\n",
    "    def __init__(self, constant=0, algebraic=''):\n",
    "        self.constant = constant\n",
    "        self.algebraic = algebraic\n",
    "\n",
    "    @staticmethod\n",
    "    def from_match(match):\n",
    "        if match.group('sign') not in \"+-\":\n",
    "            raise ValueError(\"sign must be + or -\")\n",
    "        constant = 1 if not match.group('constant') else int(match.group('constant'))\n",
    "        sign_multiplier = -1 if match.group('sign') == '-' else 1\n",
    "        return Term(\n",
    "            constant * sign_multiplier,\n",
    "            match.group('algebraic')\n",
    "        )\n",
    "\n",
    "    def __str__(self):\n",
    "        return f\"{self.constant}{self.algebraic}\"\n",
    "\n",
    "print(Term.from_match(TOKEN_REGEX.match(\"-4ax  \")))\n",
    "print(Term.from_match(TOKEN_REGEX.match(\"-3asd\")))\n",
    "print(Term.from_match(TOKEN_REGEX.match(\"xyz\")))\n"
   ]
  },
  {
   "cell_type": "code",
   "execution_count": 413,
   "id": "aceae0b9-07e3-49a9-a203-f4b332d19990",
   "metadata": {},
   "outputs": [
    {
     "name": "stdout",
     "output_type": "stream",
     "text": [
      "1d\n",
      "-54abc\n",
      "4rqs\n"
     ]
    }
   ],
   "source": [
    "for match in TOKEN_REGEX.finditer(\"+d-54abc+4rqs\"):\n",
    "    print(Term.from_match(match))"
   ]
  },
  {
   "cell_type": "markdown",
   "id": "eb87450c-8f4b-4add-9989-0ce397562928",
   "metadata": {},
   "source": [
    "## Sums and subtraction of equivalent monomials\n",
    "\n",
    "'xy' is the same thing as 'yx', and 'zxa' is the same as 'axz', they are equivalent monomials\n",
    "\n",
    "We should just be able to sort the letters in the multilinear expression (strings sort lexicographically). Terms are monomially equivalent if their multiliner expressions match\n",
    "\n",
    "Summing terms should fail if not monomially equivalent, and just summ the constants if they are"
   ]
  },
  {
   "cell_type": "code",
   "execution_count": 430,
   "id": "55f909fd-76b4-41e4-9b40-c54adaa523b6",
   "metadata": {},
   "outputs": [
    {
     "name": "stdout",
     "output_type": "stream",
     "text": [
      "7ab\n"
     ]
    }
   ],
   "source": [
    "class Term():\n",
    "    def __init__(self, constant=0, algebraic=''):\n",
    "        self.constant = constant\n",
    "        self.algebraic = algebraic\n",
    "\n",
    "    @staticmethod\n",
    "    def from_match(match):\n",
    "        if not match.group('constant'):\n",
    "            constant = 1\n",
    "        else:\n",
    "            constant = int(match.group('constant'))\n",
    "            \n",
    "        if match.group('sign') == '-':\n",
    "            sign_multiplier = -1\n",
    "        else:\n",
    "            sign_multiplier = 1\n",
    "\n",
    "        return Term(\n",
    "            constant * sign_multiplier,\n",
    "            match.group('algebraic')\n",
    "        )\n",
    "\n",
    "    def __str__(self):\n",
    "        return f\"{self.constant}{self.algebraic}\"\n",
    "\n",
    "    def monomially_equivalent(self, other_term):\n",
    "        return sorted(self.algebraic) == sorted(other_term.algebraic)\n",
    "\n",
    "    def __add__(self, other):\n",
    "        if not self.monomially_equivalent(other):\n",
    "            raise TypeError()\n",
    "        new_constant = self.constant + other.constant\n",
    "        return Term(new_constant, self.algebraic)\n",
    "\n",
    "#print(Term(4, 'adz').monomially_equivalent(Term(2, 'zad')))\n",
    "print(Term(3, 'ab') + Term(4, 'ba'))\n"
   ]
  },
  {
   "cell_type": "markdown",
   "id": "69fd642b-c9b0-4a21-9b07-decd0ea4dc4e",
   "metadata": {},
   "source": [
    "## All possible sums and subtraction of...\n",
    "\n",
    "We need to take a collection of terms, and combine the monomially equivalent terms (by summing/subtracting their constants\n",
    "\n",
    "So we'll introduce another class to deal with a term collection which we can inherit from list to give us access to useful list methods"
   ]
  },
  {
   "cell_type": "code",
   "execution_count": 438,
   "id": "565d7469-5593-4cd9-bb99-1a0e979e65a5",
   "metadata": {},
   "outputs": [
    {
     "name": "stdout",
     "output_type": "stream",
     "text": [
      "7ba\n",
      "3zx\n"
     ]
    }
   ],
   "source": [
    "class Expression(list):\n",
    "    @staticmethod\n",
    "    def from_poly(poly):\n",
    "        exp = Expression()\n",
    "        for match in TOKEN_REGEX.finditer(poly):\n",
    "            exp.append(Term.from_match(match))\n",
    "        return exp\n",
    "    \n",
    "    def simplified(self):\n",
    "        # returns a new expression which is simplified according to our rules\n",
    "        simplified = Expression()\n",
    "        for existing_term in self:\n",
    "            for simplified_term in simplified:\n",
    "                try:\n",
    "                    new_term = existing_term + simplified_term\n",
    "                    simplified.remove(simplified_term)\n",
    "                    simplified.append(new_term)\n",
    "                    break\n",
    "                except TypeError:\n",
    "                    pass\n",
    "            else:\n",
    "                simplified.append(existing_term)  \n",
    "        return simplified\n",
    "\n",
    "exp = Expression()\n",
    "exp.append(Term(4, \"xz\"))\n",
    "exp.append(Term(3, \"ab\"))\n",
    "exp.append(Term(4, \"ba\"))\n",
    "exp.append(Term(-1, \"zx\"))\n",
    "for t in exp.simplified(): print(t)\n",
    "#exp.simplified()\n",
    "\n",
    "\n",
    "\n",
    "#for t in exp2: print(t)\n",
    "#exp2.simplified()"
   ]
  },
  {
   "cell_type": "code",
   "execution_count": 436,
   "id": "a8a08d97-eeb8-4d7e-a3d4-8709d20a5a95",
   "metadata": {},
   "outputs": [
    {
     "name": "stdout",
     "output_type": "stream",
     "text": [
      "1yx\n"
     ]
    }
   ],
   "source": [
    "exp2 = Expression.from_poly(\"2xy-yx\")\n",
    "for t in exp2.simplified(): print(t)\n"
   ]
  },
  {
   "cell_type": "markdown",
   "id": "4fc61cd0-9dbd-446d-9eb7-fbf5f59b4124",
   "metadata": {},
   "source": [
    "## Ordering terms\n",
    "All monomials appears in order of increasing number of variables\n",
    "If two monomials have the same number of variables, they appears in lexicographic order.\n",
    "\n",
    "We can implement a sort of terms by adding methods to the original Term class"
   ]
  },
  {
   "cell_type": "code",
   "execution_count": 439,
   "id": "ab90c3fc-27b9-4315-8c84-7aaababa0a99",
   "metadata": {},
   "outputs": [
    {
     "name": "stdout",
     "output_type": "stream",
     "text": [
      "1a\n",
      "-1c\n",
      "1ab\n",
      "1xb\n",
      "-1xy\n",
      "2xaz\n",
      "2xyz\n"
     ]
    }
   ],
   "source": [
    "class Term():\n",
    "    def __init__(self, constant=0, algebraic=''):\n",
    "        self.constant = constant\n",
    "        self.algebraic = algebraic\n",
    "\n",
    "    @staticmethod\n",
    "    def from_match(match):\n",
    "        if match.group('sign') not in \"+-\":\n",
    "            raise ValueError(\"sign must be + or -\")\n",
    "        constant = 1 if not match.group('constant') else int(match.group('constant'))\n",
    "        sign_multiplier = (-1 if match.group('sign') == '-' else 1)\n",
    "        constant = constant if constant else 1\n",
    "        return Term(\n",
    "            constant * sign_multiplier,\n",
    "            match.group('algebraic')\n",
    "        )\n",
    "\n",
    "    def __str__(self):\n",
    "        return f\"{self.constant}{self.algebraic}\"\n",
    "\n",
    "    def algebraic_normalized(self):\n",
    "        return \"\".join(sorted(self.algebraic))\n",
    "                       \n",
    "    def monomially_equivalent(self, other_term):\n",
    "        return self.algebraic_normalized() == other_term.algebraic_normalized()\n",
    "\n",
    "    def __add__(self, other):\n",
    "        if not self.monomially_equivalent(other):\n",
    "            raise TypeError()\n",
    "        new_constant = self.constant + other.constant\n",
    "        return Term(new_constant, self.algebraic)\n",
    "\n",
    "    def __gt__(self, other):\n",
    "        if len(self.algebraic) > len(other.algebraic):\n",
    "            return True\n",
    "        elif len(self.algebraic) < len(other.algebraic):\n",
    "            return False\n",
    "        else:\n",
    "            return self.algebraic_normalized() > other.algebraic_normalized()\n",
    "        \n",
    "tst = [Term(1,'ab'), Term(1,'xb'),Term(-1,'xy'),Term(-1,'c'), Term(2,'xyz'), Term(2,'xaz'),Term(1, 'a')]\n",
    "for t in sorted(tst): print(t)"
   ]
  },
  {
   "cell_type": "markdown",
   "id": "1d4d3417-e8ee-4709-a9ed-c4ddd357622d",
   "metadata": {},
   "source": [
    "## We're really close now, just the final output to go"
   ]
  },
  {
   "cell_type": "code",
   "execution_count": 443,
   "id": "f9ee8591-161f-4d11-9e71-29383cafbc25",
   "metadata": {},
   "outputs": [
    {
     "data": {
      "text/plain": [
       "'5a+2ac+2abc'"
      ]
     },
     "execution_count": 443,
     "metadata": {},
     "output_type": "execute_result"
    }
   ],
   "source": [
    "class Term():\n",
    "    def __init__(self, constant=0, algebraic=''):\n",
    "        self.constant = constant\n",
    "        self.algebraic = algebraic\n",
    "\n",
    "    @staticmethod\n",
    "    def from_match(match):\n",
    "        if match.group('sign') not in \"+-\":\n",
    "            raise ValueError(\"sign must be + or -\")\n",
    "        constant = 1 if not match.group('constant') else int(match.group('constant'))\n",
    "        sign_multiplier = (-1 if match.group('sign') == '-' else 1)\n",
    "        constant = constant if constant else 1\n",
    "        return Term(\n",
    "            constant * sign_multiplier,\n",
    "            match.group('algebraic')\n",
    "        )\n",
    "\n",
    "    def __str__(self):\n",
    "        return f\"{self.constant}{self.algebraic}\"\n",
    "\n",
    "    def algebraic_normalized(self):\n",
    "        return \"\".join(sorted(self.algebraic))\n",
    "                       \n",
    "    def monomially_equivalent(self, other_term):\n",
    "        return self.algebraic_normalized() == other_term.algebraic_normalized()\n",
    "\n",
    "    def __add__(self, other):\n",
    "        if not self.monomially_equivalent(other):\n",
    "            raise TypeError()\n",
    "        new_constant = self.constant + other.constant\n",
    "        return Term(new_constant, self.algebraic)\n",
    "\n",
    "    def __gt__(self, other):\n",
    "        if len(self.algebraic) > len(other.algebraic):\n",
    "            return True\n",
    "        elif len(self.algebraic) < len(other.algebraic):\n",
    "            return False\n",
    "        else:\n",
    "            return self.algebraic_normalized() > other.algebraic_normalized()\n",
    "\n",
    "    def pretty_print(self):\n",
    "        if self.constant == 0:\n",
    "            return \"\"\n",
    "        constant = \"\" if self.constant in [1, -1] else self.constant\n",
    "        #print(constant)\n",
    "        sign = \"+\" if self.constant > 0 else \"-\"\n",
    "        return f\"{sign}{constant}{self.algebraic_normalized()}\"\n",
    "        \n",
    "class Expression(list):\n",
    "    @staticmethod\n",
    "    def from_poly(poly):\n",
    "        exp = Expression()\n",
    "        for match in TOKEN_REGEX.finditer(poly):\n",
    "            exp.append(Term.from_match(match))\n",
    "        return exp\n",
    "    \n",
    "    def simplified(self):\n",
    "        simplified = Expression()\n",
    "        for existing_term in self:\n",
    "            for simplified_term in simplified:\n",
    "                try:\n",
    "                    new_term = existing_term + simplified_term\n",
    "                    simplified.remove(simplified_term)\n",
    "                    simplified.append(new_term)\n",
    "                    break\n",
    "                except TypeError:\n",
    "                    pass\n",
    "            else:\n",
    "                simplified.append(existing_term)  \n",
    "        return simplified\n",
    "\n",
    "    def __str__(self):\n",
    "        s = sorted(self.simplified())\n",
    "        pretty = \"\".join([\n",
    "            t.pretty_print()\n",
    "            for t in s\n",
    "        ])\n",
    "        return pretty[1:] if pretty[0] == \"+\" else pretty\n",
    "\n",
    "e = Expression.from_poly(\"3a+2a+2ac-abc+3abc\")\n",
    "str(e)"
   ]
  },
  {
   "cell_type": "code",
   "execution_count": 444,
   "id": "155c5088-d40e-4498-9360-64b63a7f664a",
   "metadata": {},
   "outputs": [
    {
     "name": "stdout",
     "output_type": "stream",
     "text": [
      "\"3x-yx+2xy-x\" -> \"2x+xy\"\n",
      "\"3x-yx+2xy-x\" -> \"2x+xy\"\n",
      "\"cb+cba\" -> \"bc+abc\"\n",
      "\"cb+cba\" -> \"bc+abc\"\n",
      "\"2xy-yx\" -> \"xy\"\n",
      "\"2xy-yx\" -> \"xy\"\n",
      "\"-a+5ab+3a-c-2a\" -> \"-c+5ab\"\n",
      "\"-a+5ab+3a-c-2a\" -> \"-c+5ab\"\n",
      "\"a+ca-ab\" -> \"a-ab+ac\"\n",
      "\"a+ca-ab\" -> \"a-ab+ac\"\n",
      "\"-abc+3a+2ac\" -> \"3a+2ac-abc\"\n",
      "\"-abc+3a+2ac\" -> \"3a+2ac-abc\"\n",
      "\"xyz-xz\" -> \"-xz+xyz\"\n",
      "\"xyz-xz\" -> \"-xz+xyz\"\n",
      "\"xzy+zby\" ->\"byz+xyz\"\n",
      "\"xzy+zby\" -> \"byz+xyz\"\n",
      "\"-y+x\" -> \"x-y\"\n",
      "\"-y+x\" -> \"x-y\"\n",
      "\"y-x\" ->\"-x+y\"\n",
      "\"y-x\" -> \"-x+y\"\n"
     ]
    }
   ],
   "source": [
    "def test(s):\n",
    "    print(f'\"{s}\" -> \"{Expression.from_poly(s)}\"')\n",
    "print('\"3x-yx+2xy-x\" -> \"2x+xy\"')\n",
    "test(\"3x-yx+2xy-x\")\n",
    "print('\"cb+cba\" -> \"bc+abc\"')\n",
    "test(\"cb+cba\")\n",
    "print('\"2xy-yx\" -> \"xy\"')\n",
    "test(\"2xy-yx\")\n",
    "print('\"-a+5ab+3a-c-2a\" -> \"-c+5ab\"')\n",
    "test(\"-a+5ab+3a-c-2a\")\n",
    "print('\"a+ca-ab\" -> \"a-ab+ac\"')\n",
    "test(\"a+ca-ab\")\n",
    "print('\"-abc+3a+2ac\" -> \"3a+2ac-abc\"')\n",
    "test(\"-abc+3a+2ac\")\n",
    "print('\"xyz-xz\" -> \"-xz+xyz\"')\n",
    "test(\"xyz-xz\")\n",
    "print('\"xzy+zby\" ->\"byz+xyz\"')\n",
    "test(\"xzy+zby\")\n",
    "print('\"-y+x\" -> \"x-y\"')\n",
    "test(\"-y+x\")\n",
    "print('\"y-x\" ->\"-x+y\"')\n",
    "test(\"y-x\")"
   ]
  },
  {
   "cell_type": "code",
   "execution_count": null,
   "id": "c7195c96-3748-4a97-89a5-4f92f274edf7",
   "metadata": {},
   "outputs": [],
   "source": []
  }
 ],
 "metadata": {
  "kernelspec": {
   "display_name": "Python 3 (ipykernel)",
   "language": "python",
   "name": "python3"
  },
  "language_info": {
   "codemirror_mode": {
    "name": "ipython",
    "version": 3
   },
   "file_extension": ".py",
   "mimetype": "text/x-python",
   "name": "python",
   "nbconvert_exporter": "python",
   "pygments_lexer": "ipython3",
   "version": "3.11.1"
  }
 },
 "nbformat": 4,
 "nbformat_minor": 5
}
