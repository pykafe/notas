{
 "cells": [
  {
   "cell_type": "markdown",
   "id": "1e36744c-93cb-41d5-832d-e33bbe581894",
   "metadata": {},
   "source": [
    "# Human readable duration format\n",
    "\n",
    "https://www.codewars.com/kata/52742f58faf5485cae000b9a/train/python\n",
    "\n",
    "Your task in order to complete this Kata is to write a function which formats a duration, given as a number of seconds, in a human-friendly way.\n",
    "\n",
    "The function must accept a non-negative integer. If it is zero, it just returns \"now\". Otherwise, the duration is expressed as a combination of years, days, hours, minutes and seconds.\n",
    "\n",
    "It is much easier to understand with an example:\n",
    "\n",
    "* For seconds = 62, your function should return \n",
    "    \"1 minute and 2 seconds\"\n",
    "* For seconds = 3662, your function should return\n",
    "    \"1 hour, 1 minute and 2 seconds\"\n",
    "For the purpose of this Kata, a year is 365 days and a day is 24 hours.\n",
    "\n",
    "Note that spaces are important.\n",
    "\n",
    "Detailed rules\n",
    "\n",
    "The resulting expression is made of components like 4 seconds, 1 year, etc. In general, a positive integer and one of the valid units of time, separated by a space. The unit of time is used in plural if the integer is greater than 1.\n",
    "\n",
    "The components are separated by a comma and a space (\", \"). Except the last component, which is separated by \" and \", just like it would be written in English.\n",
    "\n",
    "A more significant units of time will occur before than a least significant one. Therefore, 1 second and 1 year is not correct, but 1 year and 1 second is.\n",
    "\n",
    "Different components have different unit of times. So there is not repeated units like in 5 seconds and 1 second.\n",
    "\n",
    "A component will not appear at all if its value happens to be zero. Hence, 1 minute and 0 seconds is not valid, but it should be just 1 minute.\n",
    "\n",
    "A unit of time must be used \"as much as possible\". It means that the function should not return 61 seconds, but 1 minute and 1 second instead. Formally, the duration specified by of a component must not be greater than any valid more significant unit of time."
   ]
  },
  {
   "cell_type": "markdown",
   "id": "6b9e4d85-b9b8-4e11-acd0-4d0daf2419cd",
   "metadata": {},
   "source": [
    "# Peter's breakdown and walkthrough\n",
    "\n",
    "Let's take this complicated problem and break it down into smaller problems\n",
    "\n",
    "> The function must accept a non-negative integer. If it is zero, it just returns \"now\""
   ]
  },
  {
   "cell_type": "code",
   "execution_count": 5,
   "id": "23849e0e-843c-4688-9938-d237e0fa8692",
   "metadata": {},
   "outputs": [
    {
     "name": "stdout",
     "output_type": "stream",
     "text": [
      "All good\n"
     ]
    }
   ],
   "source": [
    "def format_duration(seconds):\n",
    "    if seconds == 0:\n",
    "        return \"now\"\n",
    "\n",
    "now_res = format_duration(0)\n",
    "if now_res == \"now\":\n",
    "    print(\"All good\")\n",
    "else:\n",
    "    print(f\"{now_res} is not now, try again\")\n",
    "    print "
   ]
  },
  {
   "cell_type": "markdown",
   "id": "002002c2-4f80-4fda-8116-cf3bad48d7da",
   "metadata": {},
   "source": [
    "Moving on to\n",
    "> Otherwise, the duration is expressed as a combination of years\n",
    "\n",
    "Lets just make our function return the number of whole years that the seconds represents"
   ]
  },
  {
   "cell_type": "code",
   "execution_count": 19,
   "id": "54fc1c67-1f08-4997-af52-24bb7c6b422d",
   "metadata": {},
   "outputs": [
    {
     "name": "stdout",
     "output_type": "stream",
     "text": [
      "All good\n",
      "All good\n"
     ]
    }
   ],
   "source": [
    "seconds_in_a_year = 60 * 60 * 24 * 365\n",
    "def format_duration(seconds):\n",
    "    if seconds == 0:\n",
    "        return \"now\"\n",
    "    number_of_years = seconds // seconds_in_a_year\n",
    "    return number_of_years\n",
    "\n",
    "res_1 = format_duration(62)\n",
    "if res_1 == 0:\n",
    "    print(\"All good\")\n",
    "else:\n",
    "    print(f\"{res_1} is not 0 , try again\")\n",
    "    print \n",
    "\n",
    "res_2 = format_duration(31536000)\n",
    "if res_2 == 1:\n",
    "    print(\"All good\")\n",
    "else:\n",
    "    print(f\"{res_2} is not 1 , try again\")\n",
    "    print "
   ]
  },
  {
   "cell_type": "code",
   "execution_count": 6,
   "id": "03003480-5735-4dce-8e13-1139db5852d8",
   "metadata": {},
   "outputs": [
    {
     "data": {
      "text/plain": [
       "31536000"
      ]
     },
     "execution_count": 6,
     "metadata": {},
     "output_type": "execute_result"
    }
   ],
   "source": [
    "60 * 60 * 24 * 365"
   ]
  },
  {
   "cell_type": "code",
   "execution_count": 13,
   "id": "990d26ab-5614-4b65-94c3-422a8c837096",
   "metadata": {},
   "outputs": [
    {
     "data": {
      "text/plain": [
       "0"
      ]
     },
     "execution_count": 13,
     "metadata": {},
     "output_type": "execute_result"
    }
   ],
   "source": [
    "62 // 31536000"
   ]
  },
  {
   "cell_type": "code",
   "execution_count": 18,
   "id": "0db41b40-7d94-4248-844d-43a6614681fe",
   "metadata": {},
   "outputs": [
    {
     "data": {
      "text/plain": [
       "1977"
      ]
     },
     "execution_count": 18,
     "metadata": {},
     "output_type": "execute_result"
    }
   ],
   "source": [
    "import math\n",
    "math.floor(62354235235 / 31536000)"
   ]
  },
  {
   "cell_type": "code",
   "execution_count": null,
   "id": "fdcac367-e984-46e9-aaed-05ad12ca047f",
   "metadata": {},
   "outputs": [],
   "source": []
  }
 ],
 "metadata": {
  "kernelspec": {
   "display_name": "Python 3 (ipykernel)",
   "language": "python",
   "name": "python3"
  },
  "language_info": {
   "codemirror_mode": {
    "name": "ipython",
    "version": 3
   },
   "file_extension": ".py",
   "mimetype": "text/x-python",
   "name": "python",
   "nbconvert_exporter": "python",
   "pygments_lexer": "ipython3",
   "version": "3.11.1"
  }
 },
 "nbformat": 4,
 "nbformat_minor": 5
}
