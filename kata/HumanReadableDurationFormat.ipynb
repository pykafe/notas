{
 "cells": [
  {
   "cell_type": "markdown",
   "id": "1e36744c-93cb-41d5-832d-e33bbe581894",
   "metadata": {},
   "source": [
    "# Human readable duration format\n",
    "\n",
    "https://www.codewars.com/kata/52742f58faf5485cae000b9a/train/python\n",
    "\n",
    "Your task in order to complete this Kata is to write a function which formats a duration, given as a number of seconds, in a human-friendly way.\n",
    "\n",
    "The function must accept a non-negative integer. If it is zero, it just returns \"now\". Otherwise, the duration is expressed as a combination of years, days, hours, minutes and seconds.\n",
    "\n",
    "It is much easier to understand with an example:\n",
    "\n",
    "* For seconds = 62, your function should return \n",
    "    \"1 minute and 2 seconds\"\n",
    "* For seconds = 3662, your function should return\n",
    "    \"1 hour, 1 minute and 2 seconds\"\n",
    "For the purpose of this Kata, a year is 365 days and a day is 24 hours.\n",
    "\n",
    "Note that spaces are important.\n",
    "\n",
    "Detailed rules\n",
    "\n",
    "The resulting expression is made of components like 4 seconds, 1 year, etc. In general, a positive integer and one of the valid units of time, separated by a space. The unit of time is used in plural if the integer is greater than 1.\n",
    "\n",
    "The components are separated by a comma and a space (\", \"). Except the last component, which is separated by \" and \", just like it would be written in English.\n",
    "\n",
    "A more significant units of time will occur before than a least significant one. Therefore, 1 second and 1 year is not correct, but 1 year and 1 second is.\n",
    "\n",
    "Different components have different unit of times. So there is not repeated units like in 5 seconds and 1 second.\n",
    "\n",
    "A component will not appear at all if its value happens to be zero. Hence, 1 minute and 0 seconds is not valid, but it should be just 1 minute.\n",
    "\n",
    "A unit of time must be used \"as much as possible\". It means that the function should not return 61 seconds, but 1 minute and 1 second instead. Formally, the duration specified by of a component must not be greater than any valid more significant unit of time."
   ]
  },
  {
   "cell_type": "markdown",
   "id": "6b9e4d85-b9b8-4e11-acd0-4d0daf2419cd",
   "metadata": {},
   "source": [
    "# Peter's breakdown and walkthrough\n",
    "\n",
    "Let's take this complicated problem and break it down into smaller problems\n",
    "\n",
    "> The function must accept a non-negative integer. If it is zero, it just returns \"now\""
   ]
  },
  {
   "cell_type": "code",
   "execution_count": 5,
   "id": "23849e0e-843c-4688-9938-d237e0fa8692",
   "metadata": {},
   "outputs": [
    {
     "name": "stdout",
     "output_type": "stream",
     "text": [
      "All good\n"
     ]
    }
   ],
   "source": [
    "def format_duration(seconds):\n",
    "    if seconds == 0:\n",
    "        return \"now\"\n",
    "\n",
    "now_res = format_duration(0)\n",
    "if now_res == \"now\":\n",
    "    print(\"All good\")\n",
    "else:\n",
    "    print(f\"{now_res} is not now, try again\")\n",
    "    print "
   ]
  },
  {
   "cell_type": "markdown",
   "id": "002002c2-4f80-4fda-8116-cf3bad48d7da",
   "metadata": {},
   "source": [
    "Moving on to\n",
    "> Otherwise, the duration is expressed as a combination of years\n",
    "\n",
    "Lets just make our function return the number of whole years that the seconds represents"
   ]
  },
  {
   "cell_type": "code",
   "execution_count": 19,
   "id": "54fc1c67-1f08-4997-af52-24bb7c6b422d",
   "metadata": {},
   "outputs": [
    {
     "name": "stdout",
     "output_type": "stream",
     "text": [
      "All good\n",
      "All good\n"
     ]
    }
   ],
   "source": [
    "seconds_in_a_year = 60 * 60 * 24 * 365\n",
    "def format_duration(seconds):\n",
    "    if seconds == 0:\n",
    "        return \"now\"\n",
    "    number_of_years = seconds // seconds_in_a_year\n",
    "    return number_of_years\n",
    "\n",
    "res_1 = format_duration(62)\n",
    "if res_1 == 0:\n",
    "    print(\"All good\")\n",
    "else:\n",
    "    print(f\"{res_1} is not 0 , try again\")\n",
    "    print \n",
    "\n",
    "res_2 = format_duration(31536000)\n",
    "if res_2 == 1:\n",
    "    print(\"All good\")\n",
    "else:\n",
    "    print(f\"{res_2} is not 1 , try again\")\n",
    "    print "
   ]
  },
  {
   "cell_type": "markdown",
   "id": "973373e9-1f7a-4053-a7da-f624a628b7b9",
   "metadata": {},
   "source": [
    "What about \n",
    "> ...  days, hours, minutes and seconds."
   ]
  },
  {
   "cell_type": "code",
   "execution_count": 100,
   "id": "990d26ab-5614-4b65-94c3-422a8c837096",
   "metadata": {},
   "outputs": [],
   "source": [
    "seconds_in_a_minute = 60\n",
    "def minutes_in_seconds(seconds):\n",
    "    return seconds // seconds_in_a_minute\n",
    "\n",
    "seconds_in_an_hour = 60 * seconds_in_a_minute\n",
    "def hours_in_seconds(seconds):\n",
    "    return seconds // seconds_in_an_hour\n",
    "\n",
    "seconds_in_a_day = 24 * seconds_in_an_hour\n",
    "def days_in_seconds(seconds):\n",
    "    return seconds // seconds_in_a_day\n",
    "\n",
    "seconds_in_a_year = 365 * seconds_in_a_day\n",
    "def years_in_seconds(seconds):\n",
    "    return seconds // seconds_in_a_year\n",
    "\n"
   ]
  },
  {
   "cell_type": "markdown",
   "id": "a646a3f0-d40a-4857-a2f0-239bd2152931",
   "metadata": {},
   "source": [
    "Combine the minutes and seconds functions together\n",
    "try to produce a dict that results in this\n",
    "```python\n",
    "{\n",
    "#    \"years\": 0,\n",
    "#    \"days\": 0,\n",
    "    \"minutes\": 1,\n",
    "    \"seconds\": 2,\n",
    "}\n",
    "```"
   ]
  },
  {
   "cell_type": "code",
   "execution_count": null,
   "id": "47da10d7-0f90-40b2-877b-2c299d7a358f",
   "metadata": {},
   "outputs": [],
   "source": []
  },
  {
   "cell_type": "code",
   "execution_count": 102,
   "id": "fdcac367-e984-46e9-aaed-05ad12ca047f",
   "metadata": {},
   "outputs": [
    {
     "name": "stdout",
     "output_type": "stream",
     "text": [
      "All good {'year': 0, 'day': 0, 'hour': 0, 'minute': 1, 'second': 2}\n"
     ]
    }
   ],
   "source": [
    "def format_duration(seconds):\n",
    "    if seconds == 0:\n",
    "        return \"now\"\n",
    "    result_dict = {}\n",
    "    remaining_seconds = seconds\n",
    "\n",
    "    result_dict[\"year\"] = years_in_seconds(remaining_seconds)\n",
    "    remaining_seconds = remaining_seconds - result_dict[\"year\"] * seconds_in_a_year\n",
    "    result_dict[\"day\"] = days_in_seconds(remaining_seconds)\n",
    "    remaining_seconds = remaining_seconds - result_dict[\"day\"] * seconds_in_a_day\n",
    "    result_dict[\"hour\"] = hours_in_seconds(remaining_seconds)\n",
    "    remaining_seconds = remaining_seconds - result_dict[\"hour\"] * seconds_in_an_hour\n",
    "    result_dict[\"minute\"] = minutes_in_seconds(remaining_seconds)\n",
    "    remaining_seconds = remaining_seconds - result_dict[\"minute\"] * seconds_in_a_minute\n",
    "    result_dict[\"second\"] = remaining_seconds\n",
    "    return result_dict\n",
    "\n",
    "expected = {\n",
    "    \"year\": 0,\n",
    "    \"day\": 0,\n",
    "    \"hour\": 0,\n",
    "    \"minute\": 1,\n",
    "    \"second\": 2,\n",
    "}\n",
    "\n",
    "res_1 = format_duration(62)\n",
    "if res_1 == expected:\n",
    "    print(f\"All good {res_1}\")\n",
    "else:\n",
    "    print(f\"{res_1} is not {expected} , try again\")\n"
   ]
  },
  {
   "cell_type": "code",
   "execution_count": 103,
   "id": "7532884c-a7c6-43e9-93ff-529f23f246e9",
   "metadata": {},
   "outputs": [
    {
     "name": "stdout",
     "output_type": "stream",
     "text": [
      "{'year': 2, 'day': 3, 'hour': 0, 'minute': 7, 'second': 25}\n",
      "2 years, 3 days, 7 minutes and 25 seconds\n"
     ]
    }
   ],
   "source": [
    "print(format_duration( 2 * seconds_in_a_year + 3 * seconds_in_a_day + 7 * seconds_in_a_minute + 25 * 1))\n",
    "print(\"2 years, 3 days, 7 minutes and 25 seconds\")"
   ]
  },
  {
   "cell_type": "code",
   "execution_count": 104,
   "id": "3a908f4f-0f1f-4389-9d4a-551c9213a261",
   "metadata": {},
   "outputs": [
    {
     "name": "stdout",
     "output_type": "stream",
     "text": [
      "{'year': 0, 'day': 0, 'hour': 0, 'minute': 0, 'second': 2}\n",
      "2 seconds\n"
     ]
    }
   ],
   "source": [
    "print(format_duration(2))\n",
    "print(\"2 seconds\")"
   ]
  },
  {
   "cell_type": "markdown",
   "id": "8d61e7a1-446c-42fc-a5be-5de86dab5505",
   "metadata": {},
   "source": [
    "Now we have a reliable function to ruten the counts for years, days, minutes and seconds we can start building our output.\n",
    "\n",
    "Let's not go all the way to a full string, with the \", \" and \"and\" separators, lets just try to produce a list like these\n",
    "```python\n",
    "[\"1 year\", \"2 days\", \"1 hour\", \"5 minutes\", \"1 second\"]\n",
    "[\"1 second\"]\n",
    "[\"2 years\", \"1 minute\"]\n",
    "```"
   ]
  },
  {
   "cell_type": "code",
   "execution_count": 105,
   "id": "dcffc3aa-fc96-459e-903a-2611a999079e",
   "metadata": {},
   "outputs": [
    {
     "data": {
      "text/plain": [
       "['5 years', '4 days', '1 hour']"
      ]
     },
     "execution_count": 105,
     "metadata": {},
     "output_type": "execute_result"
    }
   ],
   "source": [
    "def format_duration(seconds):\n",
    "    if seconds == 0:\n",
    "        return \"now\"\n",
    "    result_dict = {}\n",
    "    remaining_seconds = seconds\n",
    "\n",
    "    result_dict[\"year\"] = years_in_seconds(remaining_seconds)\n",
    "    remaining_seconds = remaining_seconds - result_dict[\"year\"] * seconds_in_a_year\n",
    "    result_dict[\"day\"] = days_in_seconds(remaining_seconds)\n",
    "    remaining_seconds = remaining_seconds - result_dict[\"day\"] * seconds_in_a_day\n",
    "    result_dict[\"hour\"] = hours_in_seconds(remaining_seconds)\n",
    "    remaining_seconds = remaining_seconds - result_dict[\"hour\"] * seconds_in_an_hour\n",
    "    result_dict[\"minute\"] = minutes_in_seconds(remaining_seconds)\n",
    "    remaining_seconds = remaining_seconds - result_dict[\"minute\"] * seconds_in_a_minute\n",
    "    result_dict[\"second\"] = remaining_seconds\n",
    "    \n",
    "    result_list = [\n",
    "        f\"{value} {key}{'s' if value > 1 else ''}\" # the element in the list ( \"1 second\" or \"5 minutes\" )\n",
    "        for key, value in result_dict.items()\n",
    "        if value > 0\n",
    "    ]\n",
    "    return result_list\n",
    "\n",
    "format_duration(5 * seconds_in_a_year + 4 * seconds_in_a_day + seconds_in_an_hour)\n",
    "\n",
    "    "
   ]
  },
  {
   "cell_type": "markdown",
   "id": "9691b5e3-35bb-459b-8c0c-f870139d747a",
   "metadata": {},
   "source": [
    "Now we just need to combine them, adding a \", \" between all of them except the last 2, and adding a \" and \" between that last two"
   ]
  },
  {
   "cell_type": "code",
   "execution_count": 108,
   "id": "a4ead83f-8d92-4d65-9282-5a5a95d48159",
   "metadata": {},
   "outputs": [
    {
     "data": {
      "text/plain": [
       "'5 years, 4 days and '"
      ]
     },
     "execution_count": 108,
     "metadata": {},
     "output_type": "execute_result"
    }
   ],
   "source": [
    "\", \".join(['5 years', '4 days', '1 hour'][0:-1]) + \" and \" "
   ]
  },
  {
   "cell_type": "code",
   "execution_count": 118,
   "id": "57f6b7e7-5115-4248-acaa-03e56676cdec",
   "metadata": {},
   "outputs": [
    {
     "name": "stdout",
     "output_type": "stream",
     "text": [
      "5 years, 4 days, 1 hour and 2 seconds\n"
     ]
    }
   ],
   "source": [
    "lst = ['5 years', '4 days', '1 hour', '2 seconds']\n",
    "\n",
    "return_str = \"\"\n",
    "index = 0\n",
    "for item in reversed(lst):\n",
    "    index += 1\n",
    "    if index == 1:\n",
    "        return_str = item\n",
    "    elif index == 2: # are we the second one?\n",
    "        return_str = item + \" and \" + return_str\n",
    "    else:\n",
    "        return_str = item + \", \" + return_str\n",
    "\n",
    "print(return_str)"
   ]
  },
  {
   "cell_type": "code",
   "execution_count": null,
   "id": "6bc4363d-266b-4e5a-87f8-5248a0f08b7e",
   "metadata": {},
   "outputs": [],
   "source": []
  }
 ],
 "metadata": {
  "kernelspec": {
   "display_name": "Python 3 (ipykernel)",
   "language": "python",
   "name": "python3"
  },
  "language_info": {
   "codemirror_mode": {
    "name": "ipython",
    "version": 3
   },
   "file_extension": ".py",
   "mimetype": "text/x-python",
   "name": "python",
   "nbconvert_exporter": "python",
   "pygments_lexer": "ipython3",
   "version": "3.11.1"
  }
 },
 "nbformat": 4,
 "nbformat_minor": 5
}
