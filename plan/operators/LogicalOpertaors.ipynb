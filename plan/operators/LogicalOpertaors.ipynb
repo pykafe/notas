{
 "cells": [
  {
   "cell_type": "markdown",
   "id": "60261bfd-b27c-4df7-8cd2-0f1fee93482d",
   "metadata": {},
   "source": [
    "# Logical Operators\n",
    "\n",
    "We're familiar with Logical Operators **and**, **or**, and even *xor*\n",
    "\n",
    "## AND"
   ]
  },
  {
   "cell_type": "code",
   "execution_count": 4,
   "id": "2180fa4d-2a89-4386-8c84-f3ad41bd0135",
   "metadata": {},
   "outputs": [
    {
     "data": {
      "text/plain": [
       "True"
      ]
     },
     "execution_count": 4,
     "metadata": {},
     "output_type": "execute_result"
    }
   ],
   "source": [
    "True and True"
   ]
  },
  {
   "cell_type": "code",
   "execution_count": 5,
   "id": "b06b090f-f72b-40f6-91f8-01c8230e44b6",
   "metadata": {},
   "outputs": [
    {
     "data": {
      "text/plain": [
       "False"
      ]
     },
     "execution_count": 5,
     "metadata": {},
     "output_type": "execute_result"
    }
   ],
   "source": [
    "True and False"
   ]
  },
  {
   "cell_type": "code",
   "execution_count": 6,
   "id": "c162fc8a-8444-4c2e-acf3-756dd3ade773",
   "metadata": {},
   "outputs": [
    {
     "data": {
      "text/plain": [
       "False"
      ]
     },
     "execution_count": 6,
     "metadata": {},
     "output_type": "execute_result"
    }
   ],
   "source": [
    "False and False"
   ]
  },
  {
   "cell_type": "markdown",
   "id": "171da7bb-cf9b-48a4-8d92-52438ede2c58",
   "metadata": {},
   "source": [
    "## OR"
   ]
  },
  {
   "cell_type": "code",
   "execution_count": 7,
   "id": "7d62bfd6-aa61-4a51-891d-9e4ec7df0b92",
   "metadata": {},
   "outputs": [
    {
     "data": {
      "text/plain": [
       "True"
      ]
     },
     "execution_count": 7,
     "metadata": {},
     "output_type": "execute_result"
    }
   ],
   "source": [
    "True or True"
   ]
  },
  {
   "cell_type": "code",
   "execution_count": 8,
   "id": "ddf48e35-1c56-4ad3-a1ac-e56b32c51b0b",
   "metadata": {},
   "outputs": [
    {
     "data": {
      "text/plain": [
       "True"
      ]
     },
     "execution_count": 8,
     "metadata": {},
     "output_type": "execute_result"
    }
   ],
   "source": [
    "True or False"
   ]
  },
  {
   "cell_type": "code",
   "execution_count": 9,
   "id": "08575508-3240-4de2-8a91-2abc019117ea",
   "metadata": {},
   "outputs": [
    {
     "data": {
      "text/plain": [
       "False"
      ]
     },
     "execution_count": 9,
     "metadata": {},
     "output_type": "execute_result"
    }
   ],
   "source": [
    "False or False"
   ]
  },
  {
   "cell_type": "markdown",
   "id": "9ca41e05-ef51-4829-ac04-22d7dbb02e67",
   "metadata": {},
   "source": [
    "## XOR"
   ]
  },
  {
   "cell_type": "code",
   "execution_count": 13,
   "id": "31b1ceaf-365f-4e71-9723-aa09864337b5",
   "metadata": {},
   "outputs": [
    {
     "data": {
      "text/plain": [
       "False"
      ]
     },
     "execution_count": 13,
     "metadata": {},
     "output_type": "execute_result"
    }
   ],
   "source": [
    "True ^ True"
   ]
  },
  {
   "cell_type": "code",
   "execution_count": 14,
   "id": "0e894ee1-b7ad-45b5-9aca-528697c72271",
   "metadata": {},
   "outputs": [
    {
     "data": {
      "text/plain": [
       "True"
      ]
     },
     "execution_count": 14,
     "metadata": {},
     "output_type": "execute_result"
    }
   ],
   "source": [
    "True ^ False"
   ]
  },
  {
   "cell_type": "code",
   "execution_count": 15,
   "id": "6bdebd53-2e55-427e-a996-1348b3ae0774",
   "metadata": {},
   "outputs": [
    {
     "data": {
      "text/plain": [
       "False"
      ]
     },
     "execution_count": 15,
     "metadata": {},
     "output_type": "execute_result"
    }
   ],
   "source": [
    "False ^ False"
   ]
  },
  {
   "cell_type": "markdown",
   "id": "8ba4a2fe-d172-4f67-a008-3018b4bff4f4",
   "metadata": {},
   "source": [
    "## How it works with non-boolean operands\n",
    "\n",
    "You may not always be passing booleans into these operators, so what happens when you pass in strings or numbers or lists?\n",
    "\n",
    "Anything that you pass into a logical operator, will be truth value tested https://docs.python.org/3.12/library/stdtypes.html#truth\n",
    "\n",
    "- Values are falsy if they have either a zero length, or a `__bool__()` function which returns false\n",
    "- Strings are truthy, unless they are the empty string\n",
    "- Numbers are truthy, unless they have zero value\n",
    "- Lists are truthy, unless they are empty\n",
    "- Other things are usully truthy unless they have `__bool__()` method"
   ]
  },
  {
   "cell_type": "code",
   "execution_count": 17,
   "id": "51badd3a-5bcd-46ba-9897-6ad02a7c2145",
   "metadata": {},
   "outputs": [
    {
     "data": {
      "text/plain": [
       "False"
      ]
     },
     "execution_count": 17,
     "metadata": {},
     "output_type": "execute_result"
    }
   ],
   "source": [
    "bool(0)"
   ]
  },
  {
   "cell_type": "code",
   "execution_count": 18,
   "id": "06301732-4bf3-41b6-af18-b48d65d7ebd6",
   "metadata": {},
   "outputs": [
    {
     "data": {
      "text/plain": [
       "True"
      ]
     },
     "execution_count": 18,
     "metadata": {},
     "output_type": "execute_result"
    }
   ],
   "source": [
    "bool(12)"
   ]
  },
  {
   "cell_type": "code",
   "execution_count": 19,
   "id": "1118683e-fecd-4b58-b6dc-66a1efd17ac9",
   "metadata": {},
   "outputs": [
    {
     "data": {
      "text/plain": [
       "True"
      ]
     },
     "execution_count": 19,
     "metadata": {},
     "output_type": "execute_result"
    }
   ],
   "source": [
    "bool(\"hello\")"
   ]
  },
  {
   "cell_type": "code",
   "execution_count": 20,
   "id": "b6cff0e2-84d5-42f6-9d33-ed030f8a0fd5",
   "metadata": {},
   "outputs": [
    {
     "data": {
      "text/plain": [
       "False"
      ]
     },
     "execution_count": 20,
     "metadata": {},
     "output_type": "execute_result"
    }
   ],
   "source": [
    "bool(\"\")"
   ]
  },
  {
   "cell_type": "code",
   "execution_count": 21,
   "id": "43fe8078-7362-4531-9ae3-f517eb23b464",
   "metadata": {},
   "outputs": [
    {
     "data": {
      "text/plain": [
       "False"
      ]
     },
     "execution_count": 21,
     "metadata": {},
     "output_type": "execute_result"
    }
   ],
   "source": [
    "bool([])"
   ]
  },
  {
   "cell_type": "code",
   "execution_count": 22,
   "id": "8749574d-bed8-45bd-bf7c-34abe4d1f066",
   "metadata": {},
   "outputs": [
    {
     "data": {
      "text/plain": [
       "True"
      ]
     },
     "execution_count": 22,
     "metadata": {},
     "output_type": "execute_result"
    }
   ],
   "source": [
    "bool([1,2,3])"
   ]
  },
  {
   "cell_type": "markdown",
   "id": "8634e579-7250-46f0-a639-c8a104267ed9",
   "metadata": {},
   "source": [
    "## What gets returned? What gets evaluated?\n",
    "\n",
    "**And** expressions:\n",
    "\n",
    "If the first value is truthy:\n",
    "    It will return that second value\n",
    "If the first value is falsy\n",
    "    It will return that first value\n",
    "    \n",
    "It will not even evaluate the second value if the first value is not truthy\n",
    "\n",
    "**Or** expressions:\n",
    "\n",
    "If the first value is truthy:\n",
    "    It will return that first value\n",
    "If the first value is falsy\n",
    "    It will return that second value\n"
   ]
  },
  {
   "cell_type": "code",
   "execution_count": 29,
   "id": "b45e927e-7e39-4073-9160-52568461cd70",
   "metadata": {},
   "outputs": [
    {
     "data": {
      "text/plain": [
       "0"
      ]
     },
     "execution_count": 29,
     "metadata": {},
     "output_type": "execute_result"
    }
   ],
   "source": [
    "\"hello\" and 0"
   ]
  },
  {
   "cell_type": "code",
   "execution_count": 24,
   "id": "3cc50561-4d8e-4fee-b287-e035682fdfff",
   "metadata": {},
   "outputs": [
    {
     "data": {
      "text/plain": [
       "4"
      ]
     },
     "execution_count": 24,
     "metadata": {},
     "output_type": "execute_result"
    }
   ],
   "source": [
    "\"Hello\" and 4"
   ]
  },
  {
   "cell_type": "code",
   "execution_count": 30,
   "id": "090d7d45-8198-4c9f-af58-967a3f649066",
   "metadata": {},
   "outputs": [
    {
     "data": {
      "text/plain": [
       "0"
      ]
     },
     "execution_count": 30,
     "metadata": {},
     "output_type": "execute_result"
    }
   ],
   "source": [
    "0 and 5"
   ]
  },
  {
   "cell_type": "markdown",
   "id": "eee4bf5f-8bdc-4484-a4f9-ff79b35dd551",
   "metadata": {},
   "source": [
    "You can save yourself from evaluating expensive or slow functions when not needed, by calling them in the right hand operand of an **and** operator.\n",
    "When the left hand operatand is falsy, the right hand operand won't even be evaluated"
   ]
  },
  {
   "cell_type": "code",
   "execution_count": 34,
   "id": "dd0f2ea5-bfba-42e0-9a67-29896f01ba6a",
   "metadata": {},
   "outputs": [
    {
     "name": "stdout",
     "output_type": "stream",
     "text": [
      "I am costing you lot's of time and money\n"
     ]
    }
   ],
   "source": [
    "def is_needed():\n",
    "    #return True\n",
    "    return False\n",
    "    \n",
    "def expensive_function():\n",
    "    print(\"I am costing you lot's of time and money\")\n",
    "\n",
    "is_needed() and expensive_function()"
   ]
  },
  {
   "cell_type": "code",
   "execution_count": 36,
   "id": "535054ba-2c36-4052-8038-bd6d23edcc7e",
   "metadata": {},
   "outputs": [
    {
     "data": {
      "text/plain": [
       "'hello'"
      ]
     },
     "execution_count": 36,
     "metadata": {},
     "output_type": "execute_result"
    }
   ],
   "source": [
    "\"hello\" or 4"
   ]
  },
  {
   "cell_type": "code",
   "execution_count": 37,
   "id": "d889711c-0ab0-4aa8-87ca-e72533211604",
   "metadata": {},
   "outputs": [
    {
     "data": {
      "text/plain": [
       "4"
      ]
     },
     "execution_count": 37,
     "metadata": {},
     "output_type": "execute_result"
    }
   ],
   "source": [
    "\"hello\" and 4"
   ]
  },
  {
   "cell_type": "code",
   "execution_count": 38,
   "id": "4242f696-80aa-4370-b473-0e328aaa6e06",
   "metadata": {},
   "outputs": [
    {
     "data": {
      "text/plain": [
       "4"
      ]
     },
     "execution_count": 38,
     "metadata": {},
     "output_type": "execute_result"
    }
   ],
   "source": [
    "\"\" or 4"
   ]
  },
  {
   "cell_type": "code",
   "execution_count": 39,
   "id": "0c0d4917-6047-4e9c-b97a-2dc4ad75a7a6",
   "metadata": {},
   "outputs": [
    {
     "data": {
      "text/plain": [
       "''"
      ]
     },
     "execution_count": 39,
     "metadata": {},
     "output_type": "execute_result"
    }
   ],
   "source": [
    "\"\" and 4"
   ]
  },
  {
   "cell_type": "code",
   "execution_count": null,
   "id": "f931d62f-157b-468a-8793-c458f38b4448",
   "metadata": {},
   "outputs": [],
   "source": []
  }
 ],
 "metadata": {
  "kernelspec": {
   "display_name": "Python 3 (ipykernel)",
   "language": "python",
   "name": "python3"
  },
  "language_info": {
   "codemirror_mode": {
    "name": "ipython",
    "version": 3
   },
   "file_extension": ".py",
   "mimetype": "text/x-python",
   "name": "python",
   "nbconvert_exporter": "python",
   "pygments_lexer": "ipython3",
   "version": "3.11.1"
  }
 },
 "nbformat": 4,
 "nbformat_minor": 5
}
