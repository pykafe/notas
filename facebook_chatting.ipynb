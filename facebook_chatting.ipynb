{
 "cells": [
  {
   "cell_type": "code",
   "execution_count": null,
   "metadata": {},
   "outputs": [],
   "source": [
    "import fbchat\n",
    "from getpass import getpass\n",
    "username = str(raw_input(\"Username: \"))\n",
    "client = fbchat.Client(username, getpass())\n",
    "no_of_friends = int(raw_input(\"Number of friends: \"))\n",
    "for i in xrange(no_of_friends):\n",
    "\tname = str(raw_input(\"Name: \"))\n",
    "\tfriends = client.getUsers(name) # return a list of names\n",
    "\tfriend = friends[0]\n",
    "\tmsg = str(raw_input(\"Message: \"))\n",
    "\tsent = client.send(friend.uid, msg)\n",
    "\tif sent:\n",
    "\t\tprint(\"Message sent successfully!\")\n"
   ]
  },
  {
   "cell_type": "code",
   "execution_count": null,
   "metadata": {
    "collapsed": true
   },
   "outputs": [],
   "source": []
  },
  {
   "cell_type": "code",
   "execution_count": null,
   "metadata": {
    "collapsed": true
   },
   "outputs": [],
   "source": []
  }
 ],
 "metadata": {
  "kernelspec": {
   "display_name": "Python 2",
   "language": "python",
   "name": "python2"
  },
  "language_info": {
   "codemirror_mode": {
    "name": "ipython",
    "version": 2
   },
   "file_extension": ".py",
   "mimetype": "text/x-python",
   "name": "python",
   "nbconvert_exporter": "python",
   "pygments_lexer": "ipython2",
   "version": "2.7.12"
  }
 },
 "nbformat": 4,
 "nbformat_minor": 2
}
