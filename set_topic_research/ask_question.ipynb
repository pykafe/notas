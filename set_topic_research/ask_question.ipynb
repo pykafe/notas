{
 "cells": [
  {
   "cell_type": "code",
   "execution_count": 3,
   "metadata": {},
   "outputs": [
    {
     "name": "stdout",
     "output_type": "stream",
     "text": [
      "Hatam o nia numero: 50\n",
      "Hau nia numeru 50 \n",
      "you are about to die\n"
     ]
    }
   ],
   "source": [
    "#!/usr/bin/env python\n",
    "\n",
    "numeru = int(raw_input(\"Hatam o nia numero: \"))\n",
    "\n",
    "print (\"Hau nia numeru {} \").format(numeru)\n",
    "\n",
    "if numeru < 50:\n",
    "    print (\"You are very young\")\n",
    "else:\n",
    "    print (\"you are about to die\")\n"
   ]
  },
  {
   "cell_type": "code",
   "execution_count": null,
   "metadata": {
    "collapsed": true
   },
   "outputs": [],
   "source": []
  }
 ],
 "metadata": {
  "kernelspec": {
   "display_name": "Python 2",
   "language": "python",
   "name": "python2"
  },
  "language_info": {
   "codemirror_mode": {
    "name": "ipython",
    "version": 2
   },
   "file_extension": ".py",
   "mimetype": "text/x-python",
   "name": "python",
   "nbconvert_exporter": "python",
   "pygments_lexer": "ipython2",
   "version": "2.7.12"
  }
 },
 "nbformat": 4,
 "nbformat_minor": 2
}
