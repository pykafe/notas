{
 "cells": [
  {
   "cell_type": "code",
   "execution_count": 1,
   "metadata": {
    "collapsed": true
   },
   "outputs": [],
   "source": [
    "def line_count():\n",
    "    ''' ask a filename, return the number of lines, the number of empty lines, and the number of long '''\n",
    "    import os, os.path\n",
    "    while True:\n",
    "        file_loaction = input(\"which file do you want me to count?\")\n",
    "        if  os.path.isfile(file_location) and os.access(file_location, os.R_ok):\n",
    "            # if this file is a file\n",
    "            print(\"ok\")\n",
    "            break\n",
    "        else:\n",
    "            # if this is not a file\n",
    "            print(\"This is not a file\")\n",
    "    print(file_location + \"is a valid file\")\n",
    "    \n",
    "    with open(file_location) as f:\n",
    "        for line in f:\n",
    "            print f"
   ]
  },
  {
   "cell_type": "code",
   "execution_count": null,
   "metadata": {
    "collapsed": true
   },
   "outputs": [],
   "source": []
  }
 ],
 "metadata": {
  "kernelspec": {
   "display_name": "Python 2",
   "language": "python",
   "name": "python2"
  },
  "language_info": {
   "codemirror_mode": {
    "name": "ipython",
    "version": 2
   },
   "file_extension": ".py",
   "mimetype": "text/x-python",
   "name": "python",
   "nbconvert_exporter": "python",
   "pygments_lexer": "ipython2",
   "version": "2.7.12"
  }
 },
 "nbformat": 4,
 "nbformat_minor": 2
}
