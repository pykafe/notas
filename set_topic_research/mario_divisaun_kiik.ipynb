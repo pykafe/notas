{
 "cells": [
  {
   "cell_type": "markdown",
   "metadata": {},
   "source": [
    "### Fo hatudu Divisor nebee kiik liu"
   ]
  },
  {
   "cell_type": "code",
   "execution_count": 6,
   "metadata": {},
   "outputs": [],
   "source": [
    "def divisor_kiik():\n",
    "    num = int(input(\"Hatama numeru atu buka nia divisor nebee kiik liu:\"))\n",
    "    for i in range(2, num + 1):\n",
    "        if(num % i == 0):\n",
    "            print(\"Divisor Kiik maka:\", i)          \n",
    "            return"
   ]
  },
  {
   "cell_type": "code",
   "execution_count": 7,
   "metadata": {},
   "outputs": [
    {
     "name": "stdout",
     "output_type": "stream",
     "text": [
      "Hatama numeru atu buka nia divisor nebee kiik liu:5\n",
      "('Divisor Kiik maka:', 5)\n"
     ]
    }
   ],
   "source": [
    "divisor_kiik()"
   ]
  },
  {
   "cell_type": "markdown",
   "metadata": {},
   "source": [
    "### Fo Hatudu Divisor hotu"
   ]
  },
  {
   "cell_type": "code",
   "execution_count": 8,
   "metadata": {},
   "outputs": [],
   "source": [
    "def divisor_hotu():\n",
    "    num = int(input(\"Hatama numeru:\"))\n",
    "    print(\"Divisors husi numeru maka:\")\n",
    "    print(1)\n",
    "    for i in range(2, num // 2):\n",
    "        if(num % i == 0):\n",
    "            print(i)\n",
    "    print(num)"
   ]
  },
  {
   "cell_type": "code",
   "execution_count": 9,
   "metadata": {},
   "outputs": [
    {
     "name": "stdout",
     "output_type": "stream",
     "text": [
      "Hatama numeru:4\n",
      "Divisors husi numeru maka:\n",
      "1\n",
      "4\n"
     ]
    }
   ],
   "source": [
    "divisor_hotu()"
   ]
  },
  {
   "cell_type": "code",
   "execution_count": 10,
   "metadata": {},
   "outputs": [
    {
     "data": {
      "text/plain": [
       "2"
      ]
     },
     "execution_count": 10,
     "metadata": {},
     "output_type": "execute_result"
    }
   ],
   "source": [
    "5 // 2"
   ]
  },
  {
   "cell_type": "code",
   "execution_count": null,
   "metadata": {
    "collapsed": true
   },
   "outputs": [],
   "source": []
  },
  {
   "cell_type": "code",
   "execution_count": null,
   "metadata": {
    "collapsed": true
   },
   "outputs": [],
   "source": []
  }
 ],
 "metadata": {
  "kernelspec": {
   "display_name": "Python 3",
   "language": "python",
   "name": "python3"
  },
  "language_info": {
   "codemirror_mode": {
    "name": "ipython",
    "version": 2
   },
   "file_extension": ".py",
   "mimetype": "text/x-python",
   "name": "python",
   "nbconvert_exporter": "python",
   "pygments_lexer": "ipython2",
   "version": "2.7.12"
  }
 },
 "nbformat": 4,
 "nbformat_minor": 2
}
