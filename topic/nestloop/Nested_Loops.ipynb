{
 "cells": [
  {
   "cell_type": "markdown",
   "metadata": {},
   "source": [
    "**Nested Loops**\n",
    "\n",
    "\n",
    "Python programming language allows to use one loop inside another loop. Following\n",
    "section shows few examples to illustrate the concept.\n",
    "\n",
    "**Syntax**\n",
    "``` python\n",
    "for iterating_var in sequence:\n",
    "     for iterating_var in sequence:\n",
    "          statements(s)\n",
    "     statements(s)```\n",
    " "
   ]
  },
  {
   "cell_type": "markdown",
   "metadata": {},
   "source": [
    "\n",
    "The syntax for a nested while loop statement in Python programming language is\n",
    "as follows:\n",
    "```python\n",
    "while expression:\n",
    "    while expression:\n",
    "        statement(s)\n",
    "    statement(s)\n",
    "```\n",
    "A final note on loop nesting is that you can put any type of loop inside of any other\n",
    "type of loop. For example a for loop can be inside a while loop or vice versa.\n",
    "\n",
    "\n",
    "**Example**\n",
    "\n",
    "\n",
    "The following program uses a nested for loop to find the prime numbers from 2 to\n",
    "100:"
   ]
  },
  {
   "cell_type": "code",
   "execution_count": 8,
   "metadata": {},
   "outputs": [
    {
     "name": "stdout",
     "output_type": "stream",
     "text": [
      "0  is prime\n",
      "1  is prime\n",
      "2  is prime\n",
      "3  is prime\n",
      "5  is prime\n",
      "7  is prime\n",
      "11  is prime\n",
      "13  is prime\n",
      "17  is prime\n",
      "19  is prime\n",
      "23  is prime\n",
      "29  is prime\n",
      "31  is prime\n",
      "37  is prime\n",
      "41  is prime\n",
      "43  is prime\n",
      "47  is prime\n",
      "53  is prime\n",
      "59  is prime\n",
      "61  is prime\n",
      "67  is prime\n",
      "71  is prime\n",
      "73  is prime\n",
      "79  is prime\n",
      "83  is prime\n",
      "89  is prime\n",
      "97  is prime\n",
      "Good bye!\n"
     ]
    }
   ],
   "source": [
    "#!/usr/bin/python\n",
    "i = 0\n",
    "while(i < 100):\n",
    "    j = 2\n",
    "    while(j <= (i/j)):\n",
    "        if not(i%j): \n",
    "            break\n",
    "        j = j + 1\n",
    "    if (j > i/j) : \n",
    "        print(i, \" is prime\")\n",
    "    i = i + 1\n",
    "print(\"Good bye!\")"
   ]
  }
 ],
 "metadata": {
  "kernelspec": {
   "display_name": "Python 3",
   "language": "python",
   "name": "python3"
  },
  "language_info": {
   "codemirror_mode": {
    "name": "ipython",
    "version": 3
   },
   "file_extension": ".py",
   "mimetype": "text/x-python",
   "name": "python",
   "nbconvert_exporter": "python",
   "pygments_lexer": "ipython3",
   "version": "3.5.2"
  }
 },
 "nbformat": 4,
 "nbformat_minor": 2
}
