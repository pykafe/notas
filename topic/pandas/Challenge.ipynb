{
 "cells": [
  {
   "cell_type": "markdown",
   "metadata": {},
   "source": [
    "*Challenge 1*"
   ]
  },
  {
   "cell_type": "code",
   "execution_count": 4,
   "metadata": {},
   "outputs": [
    {
     "name": "stdout",
     "output_type": "stream",
     "text": [
      "Enter list of user seperatedOny, Niko, Ano, Mario, Nando\n",
      "['Ano,', 'Mario,', 'Nando', 'Niko,', 'Ony,']\n"
     ]
    }
   ],
   "source": [
    "user_list = input(\"Enter list of user seperated\").split()\n",
    "user_list.sort()\n",
    "print(user_list)\n"
   ]
  },
  {
   "cell_type": "code",
   "execution_count": 34,
   "metadata": {},
   "outputs": [
    {
     "name": "stdout",
     "output_type": "stream",
     "text": [
      "   Toyota  Prado  Avans\n",
      "0      12     34     45\n",
      "1     343    353     34\n",
      "2      34    343     34\n",
      "3     343   3434   3434\n",
      "4     534  43534    453\n"
     ]
    }
   ],
   "source": [
    "# Import pandas as pd\n",
    "import pandas as pd\n",
    "\n",
    "# Import the cars.csv data: cars\n",
    "cars = pd.read_csv('cars.csv')\n",
    "\n",
    "# Print out cars\n",
    "print(cars)\n"
   ]
  },
  {
   "cell_type": "code",
   "execution_count": 5,
   "metadata": {},
   "outputs": [
    {
     "name": "stdout",
     "output_type": "stream",
     "text": [
      "   Districts  Subdistricts  Unnamed: 2  Unnamed: 3  Unnamed: 4  Unnamed: 5  \\\n",
      "0     Ainaro        Ainaro         NaN         NaN         NaN         NaN   \n",
      "1     Aileiu       Remexio         NaN         NaN         NaN         NaN   \n",
      "2   Manatuto         Laclo         NaN         NaN         NaN         NaN   \n",
      "3     Aileiu       Laulara         NaN         NaN         NaN         NaN   \n",
      "4     Ermera       Hatolia         NaN         NaN         NaN         NaN   \n",
      "5    Liquica     Bazartete         NaN         NaN         NaN         NaN   \n",
      "6    Liquica       Liquica         NaN         NaN         NaN         NaN   \n",
      "7     Ermera     Lete Foho         NaN         NaN         NaN         NaN   \n",
      "8     Ermera       Railaco         NaN         NaN         NaN         NaN   \n",
      "9    Liquica       Maubara         NaN         NaN         NaN         NaN   \n",
      "10  Manufahi          Same         NaN         NaN         NaN         NaN   \n",
      "11  Manatuto       Barique         NaN         NaN         NaN         NaN   \n",
      "12  Manatuto      Laclubar         NaN         NaN         NaN         NaN   \n",
      "13  Manufahi          Alas         NaN         NaN         NaN         NaN   \n",
      "14  Covalima       Fatumea         NaN         NaN         NaN         NaN   \n",
      "15  Manatuto      Manatuto         NaN         NaN         NaN         NaN   \n",
      "16  Covalima     Mau katar         NaN         NaN         NaN         NaN   \n",
      "17  Manatuto       Soibada         NaN         NaN         NaN         NaN   \n",
      "18  Manufahi    Fatuberliu         NaN         NaN         NaN         NaN   \n",
      "19  Manufahi      Turiscal         NaN         NaN         NaN         NaN   \n",
      "20  Covalima     Fatululik         NaN         NaN         NaN         NaN   \n",
      "21    Ainaro      Hatu Udo         NaN         NaN         NaN         NaN   \n",
      "22    Ainaro      Maubisse         NaN         NaN         NaN         NaN   \n",
      "23    Ermera  Ermera Villa         NaN         NaN         NaN         NaN   \n",
      "24  Covalima   Suai Villa          NaN         NaN         NaN         NaN   \n",
      "25    Aileiu   Aileu Villa         NaN         NaN         NaN         NaN   \n",
      "26    Aileiu      Liquidoe         NaN         NaN         NaN         NaN   \n",
      "27    Ermera        Atsabe         NaN         NaN         NaN         NaN   \n",
      "28    Ainaro  Hatu Builico         NaN         NaN         NaN         NaN   \n",
      "29    Baucau          Laga         NaN         NaN         NaN         NaN   \n",
      "30  Covalima       Fohoren         NaN         NaN         NaN         NaN   \n",
      "31    Baucau       Bauguia         NaN         NaN         NaN         NaN   \n",
      "32  Covalima       Zumalai         NaN         NaN         NaN         NaN   \n",
      "33    Baucau   Baucau Vila         NaN         NaN         NaN         NaN   \n",
      "34  Covalima       Tilomar         NaN         NaN         NaN         NaN   \n",
      "35    Baucau      Quelicai         NaN         NaN         NaN         NaN   \n",
      "36    Baucau       Vemasse         NaN         NaN         NaN         NaN   \n",
      "37    Baucau      Venilale         NaN         NaN         NaN         NaN   \n",
      "38       NaN           NaN         NaN         NaN         NaN         NaN   \n",
      "39       NaN           NaN         NaN         NaN         NaN         NaN   \n",
      "40       NaN           NaN         NaN         NaN         NaN         NaN   \n",
      "\n",
      "    Unnamed: 6  Unnamed: 7  Unnamed: 8  Unnamed: 9  Unnamed: 10  \n",
      "0          NaN         NaN         NaN         NaN          NaN  \n",
      "1          NaN         NaN         NaN         NaN          NaN  \n",
      "2          NaN         NaN         NaN         NaN          NaN  \n",
      "3          NaN         NaN         NaN         NaN          NaN  \n",
      "4          NaN         NaN         NaN         NaN          NaN  \n",
      "5          NaN         NaN         NaN         NaN          NaN  \n",
      "6          NaN         NaN         NaN         NaN          NaN  \n",
      "7          NaN         NaN         NaN         NaN          NaN  \n",
      "8          NaN         NaN         NaN         NaN          NaN  \n",
      "9          NaN         NaN         NaN         NaN          NaN  \n",
      "10         NaN         NaN         NaN         NaN          NaN  \n",
      "11         NaN         NaN         NaN         NaN          NaN  \n",
      "12         NaN         NaN         NaN         NaN          NaN  \n",
      "13         NaN         NaN         NaN         NaN          NaN  \n",
      "14         NaN         NaN         NaN         NaN          NaN  \n",
      "15         NaN         NaN         NaN         NaN          NaN  \n",
      "16         NaN         NaN         NaN         NaN          NaN  \n",
      "17         NaN         NaN         NaN         NaN          NaN  \n",
      "18         NaN         NaN         NaN         NaN          NaN  \n",
      "19         NaN         NaN         NaN         NaN          NaN  \n",
      "20         NaN         NaN         NaN         NaN          NaN  \n",
      "21         NaN         NaN         NaN         NaN          NaN  \n",
      "22         NaN         NaN         NaN         NaN          NaN  \n",
      "23         NaN         NaN         NaN         NaN          NaN  \n",
      "24         NaN         NaN         NaN         NaN          NaN  \n",
      "25         NaN         NaN         NaN         NaN          NaN  \n",
      "26         NaN         NaN         NaN         NaN          NaN  \n",
      "27         NaN         NaN         NaN         NaN          NaN  \n",
      "28         NaN         NaN         NaN         NaN          NaN  \n",
      "29         NaN         NaN         NaN         NaN          NaN  \n",
      "30         NaN         NaN         NaN         NaN          NaN  \n",
      "31         NaN         NaN         NaN         NaN          NaN  \n",
      "32         NaN         NaN         NaN         NaN          NaN  \n",
      "33         NaN         NaN         NaN         NaN          NaN  \n",
      "34         NaN         NaN         NaN         NaN          NaN  \n",
      "35         NaN         NaN         NaN         NaN          NaN  \n",
      "36         NaN         NaN         NaN         NaN          NaN  \n",
      "37         NaN         NaN         NaN         NaN          NaN  \n",
      "38         NaN         NaN         NaN         NaN          NaN  \n",
      "39         NaN         NaN         NaN         NaN          NaN  \n",
      "40         NaN         NaN         NaN         NaN          NaN  \n"
     ]
    }
   ],
   "source": [
    "import pandas as pd\n",
    "\n",
    "data = pd.read_csv('/home/nicko/Desktop/pypandas/Places.csv')\n",
    "data.to_excel('places.xlsx')\n",
    "print(data)\n",
    "\n"
   ]
  },
  {
   "cell_type": "code",
   "execution_count": 4,
   "metadata": {},
   "outputs": [
    {
     "name": "stdout",
     "output_type": "stream",
     "text": [
      "[('Ainaro', 'Ainaro'), ('Aileiu', 'Remexio'), ('Manatuto', 'Laclo'), ('Aileiu', 'Laulara'), ('Ermera', 'Hatolia'), ('Liquica', 'Bazartete'), ('Liquica', 'Liquica'), ('Ermera', 'Lete Foho'), ('Ermera', 'Railaco'), ('Liquica', 'Maubara'), ('Manufahi', 'Same'), ('Manatuto', 'Barique'), ('Manatuto', 'Laclubar'), ('Manufahi', 'Alas'), ('Covalima', 'Fatumea'), ('Manatuto', 'Manatuto'), ('Covalima', 'Mau katar'), ('Manatuto', 'Soibada'), ('Manufahi', 'Fatuberliu'), ('Manufahi', 'Turiscal'), ('Covalima', 'Fatululik'), ('Ainaro', 'Hatu Udo'), ('Ainaro', 'Maubisse'), ('Ermera', 'Ermera Villa'), ('Covalima', 'Suai Villa '), ('Aileiu', 'Aileu Villa'), ('Aileiu', 'Liquidoe'), ('Ermera', 'Atsabe'), ('Ainaro', 'Hatu Builico'), ('Baucau', 'Laga'), ('Covalima', 'Fohoren'), ('Baucau', 'Bauguia'), ('Covalima', 'Zumalai'), ('Baucau', 'Baucau Vila'), ('Covalima', 'Tilomar'), ('Baucau', 'Quelicai'), ('Baucau', 'Vemasse'), ('Baucau', 'Venilale')]\n",
      "[('Ainaro', 'Ainaro'), ('Aileiu', 'Remexio'), ('Manatuto', 'Laclo'), ('Aileiu', 'Laulara'), ('Ermera', 'Hatolia'), ('Liquica', 'Bazartete'), ('Liquica', 'Liquica'), ('Ermera', 'Lete Foho'), ('Ermera', 'Railaco'), ('Liquica', 'Maubara'), ('Manufahi', 'Same'), ('Manatuto', 'Barique'), ('Manatuto', 'Laclubar'), ('Manufahi', 'Alas'), ('Covalima', 'Fatumea'), ('Manatuto', 'Manatuto'), ('Covalima', 'Mau katar'), ('Manatuto', 'Soibada'), ('Manufahi', 'Fatuberliu'), ('Manufahi', 'Turiscal'), ('Covalima', 'Fatululik'), ('Ainaro', 'Hatu Udo'), ('Ainaro', 'Maubisse'), ('Ermera', 'Ermera Villa'), ('Covalima', 'Suai Villa '), ('Aileiu', 'Aileu Villa'), ('Aileiu', 'Liquidoe'), ('Ermera', 'Atsabe'), ('Ainaro', 'Hatu Builico'), ('Baucau', 'Laga'), ('Covalima', 'Fohoren'), ('Baucau', 'Bauguia'), ('Covalima', 'Zumalai'), ('Baucau', 'Baucau Vila'), ('Covalima', 'Tilomar'), ('Baucau', 'Quelicai'), ('Baucau', 'Vemasse'), ('Baucau', 'Venilale')]\n"
     ]
    }
   ],
   "source": [
    "import pandas as pd\n",
    "\n",
    "data = pd.read_excel('/home/nicko/Places.xlsx')\n",
    "places = []\n",
    "for row in data[1:].iterrows():\n",
    "    places.append((row[1][0], row[1][1]))\n",
    "print (places)\n",
    "sorted_places =sorted(places)\n",
    "print (places)"
   ]
  },
  {
   "cell_type": "code",
   "execution_count": 6,
   "metadata": {},
   "outputs": [
    {
     "ename": "FileNotFoundError",
     "evalue": "[Errno 2] No such file or directory: 'Places_well_formatted.xlsx'",
     "output_type": "error",
     "traceback": [
      "\u001b[0;31m---------------------------------------------------------------------------\u001b[0m",
      "\u001b[0;31mFileNotFoundError\u001b[0m                         Traceback (most recent call last)",
      "\u001b[0;32m<ipython-input-6-28aaaeb8dab5>\u001b[0m in \u001b[0;36m<module>\u001b[0;34m()\u001b[0m\n\u001b[1;32m      1\u001b[0m \u001b[0;32mimport\u001b[0m \u001b[0mpandas\u001b[0m\u001b[0;34m\u001b[0m\u001b[0m\n\u001b[0;32m----> 2\u001b[0;31m \u001b[0mdata\u001b[0m \u001b[0;34m=\u001b[0m \u001b[0mpandas\u001b[0m\u001b[0;34m.\u001b[0m\u001b[0mread_excel\u001b[0m\u001b[0;34m(\u001b[0m\u001b[0;34m'Places_well_formatted.xlsx'\u001b[0m\u001b[0;34m)\u001b[0m\u001b[0;34m\u001b[0m\u001b[0m\n\u001b[0m\u001b[1;32m      3\u001b[0m \u001b[0mdata\u001b[0m\u001b[0;34m.\u001b[0m\u001b[0msort_values\u001b[0m\u001b[0;34m(\u001b[0m\u001b[0;34m[\u001b[0m\u001b[0;34m'District'\u001b[0m\u001b[0;34m,\u001b[0m \u001b[0;34m'Subdistrict'\u001b[0m\u001b[0;34m]\u001b[0m\u001b[0;34m,\u001b[0m \u001b[0minplace\u001b[0m\u001b[0;34m=\u001b[0m\u001b[0;32mTrue\u001b[0m\u001b[0;34m)\u001b[0m \u001b[0;31m# like calling data.sort()\u001b[0m\u001b[0;34m\u001b[0m\u001b[0m\n\u001b[1;32m      4\u001b[0m \u001b[0;31m# sorted_data = data.sort_values(['District', 'Subdistrict'], inplace=False) # like calling sorted(data)\u001b[0m\u001b[0;34m\u001b[0m\u001b[0;34m\u001b[0m\u001b[0m\n\u001b[1;32m      5\u001b[0m \u001b[0mprint\u001b[0m\u001b[0;34m(\u001b[0m\u001b[0mdata\u001b[0m\u001b[0;34m)\u001b[0m\u001b[0;34m\u001b[0m\u001b[0m\n",
      "\u001b[0;32m/usr/local/lib/python3.5/dist-packages/pandas/io/excel.py\u001b[0m in \u001b[0;36mread_excel\u001b[0;34m(io, sheetname, header, skiprows, skip_footer, index_col, names, parse_cols, parse_dates, date_parser, na_values, thousands, convert_float, has_index_names, converters, dtype, true_values, false_values, engine, squeeze, **kwds)\u001b[0m\n\u001b[1;32m    201\u001b[0m \u001b[0;34m\u001b[0m\u001b[0m\n\u001b[1;32m    202\u001b[0m     \u001b[0;32mif\u001b[0m \u001b[0;32mnot\u001b[0m \u001b[0misinstance\u001b[0m\u001b[0;34m(\u001b[0m\u001b[0mio\u001b[0m\u001b[0;34m,\u001b[0m \u001b[0mExcelFile\u001b[0m\u001b[0;34m)\u001b[0m\u001b[0;34m:\u001b[0m\u001b[0;34m\u001b[0m\u001b[0m\n\u001b[0;32m--> 203\u001b[0;31m         \u001b[0mio\u001b[0m \u001b[0;34m=\u001b[0m \u001b[0mExcelFile\u001b[0m\u001b[0;34m(\u001b[0m\u001b[0mio\u001b[0m\u001b[0;34m,\u001b[0m \u001b[0mengine\u001b[0m\u001b[0;34m=\u001b[0m\u001b[0mengine\u001b[0m\u001b[0;34m)\u001b[0m\u001b[0;34m\u001b[0m\u001b[0m\n\u001b[0m\u001b[1;32m    204\u001b[0m \u001b[0;34m\u001b[0m\u001b[0m\n\u001b[1;32m    205\u001b[0m     return io._parse_excel(\n",
      "\u001b[0;32m/usr/local/lib/python3.5/dist-packages/pandas/io/excel.py\u001b[0m in \u001b[0;36m__init__\u001b[0;34m(self, io, **kwds)\u001b[0m\n\u001b[1;32m    258\u001b[0m             \u001b[0mself\u001b[0m\u001b[0;34m.\u001b[0m\u001b[0mbook\u001b[0m \u001b[0;34m=\u001b[0m \u001b[0mxlrd\u001b[0m\u001b[0;34m.\u001b[0m\u001b[0mopen_workbook\u001b[0m\u001b[0;34m(\u001b[0m\u001b[0mfile_contents\u001b[0m\u001b[0;34m=\u001b[0m\u001b[0mdata\u001b[0m\u001b[0;34m)\u001b[0m\u001b[0;34m\u001b[0m\u001b[0m\n\u001b[1;32m    259\u001b[0m         \u001b[0;32melif\u001b[0m \u001b[0misinstance\u001b[0m\u001b[0;34m(\u001b[0m\u001b[0mio\u001b[0m\u001b[0;34m,\u001b[0m \u001b[0mcompat\u001b[0m\u001b[0;34m.\u001b[0m\u001b[0mstring_types\u001b[0m\u001b[0;34m)\u001b[0m\u001b[0;34m:\u001b[0m\u001b[0;34m\u001b[0m\u001b[0m\n\u001b[0;32m--> 260\u001b[0;31m             \u001b[0mself\u001b[0m\u001b[0;34m.\u001b[0m\u001b[0mbook\u001b[0m \u001b[0;34m=\u001b[0m \u001b[0mxlrd\u001b[0m\u001b[0;34m.\u001b[0m\u001b[0mopen_workbook\u001b[0m\u001b[0;34m(\u001b[0m\u001b[0mio\u001b[0m\u001b[0;34m)\u001b[0m\u001b[0;34m\u001b[0m\u001b[0m\n\u001b[0m\u001b[1;32m    261\u001b[0m         \u001b[0;32melse\u001b[0m\u001b[0;34m:\u001b[0m\u001b[0;34m\u001b[0m\u001b[0m\n\u001b[1;32m    262\u001b[0m             raise ValueError('Must explicitly set engine if not passing in'\n",
      "\u001b[0;32m/usr/local/lib/python3.5/dist-packages/xlrd/__init__.py\u001b[0m in \u001b[0;36mopen_workbook\u001b[0;34m(filename, logfile, verbosity, use_mmap, file_contents, encoding_override, formatting_info, on_demand, ragged_rows)\u001b[0m\n\u001b[1;32m    393\u001b[0m         \u001b[0mpeek\u001b[0m \u001b[0;34m=\u001b[0m \u001b[0mfile_contents\u001b[0m\u001b[0;34m[\u001b[0m\u001b[0;34m:\u001b[0m\u001b[0mpeeksz\u001b[0m\u001b[0;34m]\u001b[0m\u001b[0;34m\u001b[0m\u001b[0m\n\u001b[1;32m    394\u001b[0m     \u001b[0;32melse\u001b[0m\u001b[0;34m:\u001b[0m\u001b[0;34m\u001b[0m\u001b[0m\n\u001b[0;32m--> 395\u001b[0;31m         \u001b[0;32mwith\u001b[0m \u001b[0mopen\u001b[0m\u001b[0;34m(\u001b[0m\u001b[0mfilename\u001b[0m\u001b[0;34m,\u001b[0m \u001b[0;34m\"rb\"\u001b[0m\u001b[0;34m)\u001b[0m \u001b[0;32mas\u001b[0m \u001b[0mf\u001b[0m\u001b[0;34m:\u001b[0m\u001b[0;34m\u001b[0m\u001b[0m\n\u001b[0m\u001b[1;32m    396\u001b[0m             \u001b[0mpeek\u001b[0m \u001b[0;34m=\u001b[0m \u001b[0mf\u001b[0m\u001b[0;34m.\u001b[0m\u001b[0mread\u001b[0m\u001b[0;34m(\u001b[0m\u001b[0mpeeksz\u001b[0m\u001b[0;34m)\u001b[0m\u001b[0;34m\u001b[0m\u001b[0m\n\u001b[1;32m    397\u001b[0m     \u001b[0;32mif\u001b[0m \u001b[0mpeek\u001b[0m \u001b[0;34m==\u001b[0m \u001b[0;34mb\"PK\\x03\\x04\"\u001b[0m\u001b[0;34m:\u001b[0m \u001b[0;31m# a ZIP file\u001b[0m\u001b[0;34m\u001b[0m\u001b[0m\n",
      "\u001b[0;31mFileNotFoundError\u001b[0m: [Errno 2] No such file or directory: 'Places_well_formatted.xlsx'"
     ]
    }
   ],
   "source": [
    "import pandas\n",
    "data = pandas.read_excel('Places.xlsx')\n",
    "data.sort_values(['District', 'Subdistrict'], inplace=True) # like calling data.sort()\n",
    "# sorted_data = data.sort_values(['District', 'Subdistrict'], inplace=False) # like calling sorted(data)\n",
    "print(data)\n",
    "data.to_excel('Places_ordered.xlsx')"
   ]
  },
  {
   "cell_type": "code",
   "execution_count": null,
   "metadata": {
    "collapsed": true
   },
   "outputs": [],
   "source": []
  }
 ],
 "metadata": {
  "kernelspec": {
   "display_name": "Python 3",
   "language": "python",
   "name": "python3"
  },
  "language_info": {
   "codemirror_mode": {
    "name": "ipython",
    "version": 3
   },
   "file_extension": ".py",
   "mimetype": "text/x-python",
   "name": "python",
   "nbconvert_exporter": "python",
   "pygments_lexer": "ipython3",
   "version": "3.5.2"
  }
 },
 "nbformat": 4,
 "nbformat_minor": 2
}
