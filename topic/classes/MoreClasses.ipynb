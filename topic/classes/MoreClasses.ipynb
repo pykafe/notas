{
 "cells": [
  {
   "cell_type": "code",
   "execution_count": 11,
   "metadata": {
    "collapsed": false
   },
   "outputs": [
    {
     "name": "stdout",
     "output_type": "stream",
     "text": [
      "Is my_animal an Animal? True\n",
      "Is my_animal an NamedObject? True\n",
      "Is my_named_obj an NamedObject? True\n",
      "Is my_named_obj an Animal? False\n",
      "Karau\n",
      "Is my_karau an NamedObject? True\n",
      "Is my_karau an Animal? True\n",
      "Is my_karau an Karau? True\n"
     ]
    }
   ],
   "source": [
    "# base class\n",
    "class NamedObject(object):\n",
    "    \n",
    "    # constructor\n",
    "    def __init__(self, name):\n",
    "       self.name = name\n",
    "    \n",
    "    def hello(self):\n",
    "        print \"Hello\"\n",
    "        \n",
    "        \n",
    "# this class also inherits from NamedObject\n",
    "class Animal(NamedObject):\n",
    "    pass\n",
    "\n",
    "\n",
    "my_animal = Animal(\"Asu\")\n",
    "print \"Is my_animal an Animal?\", isinstance(my_animal, Animal)\n",
    "print \"Is my_animal an NamedObject?\", isinstance(my_animal, NamedObject)\n",
    "\n",
    "my_named_obj = NamedObject(\"Peter\")\n",
    "print \"Is my_named_obj an NamedObject?\", isinstance(my_named_obj, NamedObject)\n",
    "print \"Is my_named_obj an Animal?\", isinstance(my_named_obj, Animal)\n",
    "\n",
    "class Karau(Animal):\n",
    "    def __init__(self):\n",
    "       super(Karau, self).__init__(\"Karau\")\n",
    "    \n",
    "my_karau = Karau()\n",
    "print my_karau.name                          \n",
    "print \"Is my_karau an NamedObject?\", isinstance(my_karau, NamedObject)\n",
    "print \"Is my_karau an Animal?\", isinstance(my_karau, Animal)\n",
    "print \"Is my_karau an Karau?\", isinstance(my_karau, Karau)\n",
    "\n",
    "\n"
   ]
  }
 ],
 "metadata": {
  "kernelspec": {
   "display_name": "Python 2",
   "language": "python",
   "name": "python2"
  },
  "language_info": {
   "codemirror_mode": {
    "name": "ipython",
    "version": 2
   },
   "file_extension": ".py",
   "mimetype": "text/x-python",
   "name": "python",
   "nbconvert_exporter": "python",
   "pygments_lexer": "ipython2",
   "version": "2.7.10"
  }
 },
 "nbformat": 4,
 "nbformat_minor": 0
}
