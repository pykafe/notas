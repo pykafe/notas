{
 "cells": [
  {
   "cell_type": "markdown",
   "metadata": {},
   "source": [
    "# class\n",
    "\n",
    "### *class* maka maneira ida nebee atu hafalun *Variabel* no *Funsaun* sira hamutuk.\n"
   ]
  },
  {
   "cell_type": "code",
   "execution_count": 1,
   "metadata": {
    "collapsed": false
   },
   "outputs": [],
   "source": [
    "class Koko:\n",
    "    pass\n",
    "x = Koko()"
   ]
  },
  {
   "cell_type": "markdown",
   "metadata": {},
   "source": [
    "### Halo Declarasaun/Documentasaun kona ba Classe nebe ita fo ho forma *`String` *"
   ]
  },
  {
   "cell_type": "code",
   "execution_count": 4,
   "metadata": {
    "collapsed": false
   },
   "outputs": [
    {
     "name": "stdout",
     "output_type": "stream",
     "text": [
      "Classe ida nee atu fosai Funsionario\n"
     ]
    }
   ],
   "source": [
    "class Funsionario:\n",
    "    'Classe ida nee atu fosai Funsionario'\n",
    "    \n",
    "\n",
    "#assesu iha clase nia liur\n",
    "print Funsionario.__doc__\n",
    "    "
   ]
  },
  {
   "cell_type": "markdown",
   "metadata": {},
   "source": [
    "### Classe ho nia Metode"
   ]
  },
  {
   "cell_type": "code",
   "execution_count": 4,
   "metadata": {
    "collapsed": false
   },
   "outputs": [
    {
     "name": "stdout",
     "output_type": "stream",
     "text": [
      "Hello!\n",
      "Hello!\n"
     ]
    }
   ],
   "source": [
    "class Hasee:\n",
    "    \n",
    "    '''metode'''\n",
    "    def hauHasee(self):\n",
    "        print \"Hello!\"\n",
    "\n",
    "'''assesu'''        \n",
    "Hasee().hauHasee()\n",
    "x = Hasee()\n",
    "x.hauHasee()"
   ]
  },
  {
   "cell_type": "markdown",
   "metadata": {},
   "source": [
    "### Classe, Konstruktor no Metode "
   ]
  },
  {
   "cell_type": "code",
   "execution_count": 18,
   "metadata": {
    "collapsed": false
   },
   "outputs": [
    {
     "name": "stdout",
     "output_type": "stream",
     "text": [
      "Hello!\n"
     ]
    }
   ],
   "source": [
    "class Hasee:\n",
    "    \n",
    "    '''Konstructor'''\n",
    "    def __init__(self):\n",
    "        self.hauHasee()\n",
    "    \n",
    "    '''metode'''\n",
    "    def hauHasee(self):\n",
    "        print \"Hello!\"\n",
    "\n",
    "'''assesu'''        \n",
    "x = Hasee()"
   ]
  },
  {
   "cell_type": "markdown",
   "metadata": {},
   "source": [
    "## Classe, Object, Constructor no Metode"
   ]
  },
  {
   "cell_type": "code",
   "execution_count": 28,
   "metadata": {
    "collapsed": false,
    "scrolled": false
   },
   "outputs": [
    {
     "name": "stdout",
     "output_type": "stream",
     "text": [
      "Estudante nia naran\n",
      "===================\n",
      "Naran : Mario \n",
      "Telefone : 775245245 \n",
      "Estudante nia naran\n",
      "===================\n",
      "Naran : Nico \n",
      "Telefone : 7845245242 \n",
      "Estudante nia naran\n",
      "===================\n",
      "Naran : Joni \n",
      "Telefone : 7834234234 \n",
      "--------------------------\n",
      "Total Estudante : 3\n"
     ]
    }
   ],
   "source": [
    "class Estudante(object):\n",
    "    'Clase ida ne ba dadus Estudante'\n",
    "    ttl_estudante = 0 #Clase variabel\n",
    "    \n",
    "    #konstructor\n",
    "    def __init__(self, naran, telefone):\n",
    "        self.naran = naran\n",
    "        self.telefone = telefone\n",
    "        Estudante.ttl_estudante += 1\n",
    "        \n",
    "    #metode\n",
    "    def infoEstudante(self):\n",
    "        print \"Estudante nia naran\"\n",
    "        print \"===================\"\n",
    "        print \"Naran : %s \" % self.naran\n",
    "        print \"Telefone : %s \" % self.telefone\n",
    "\n",
    "#maneira atu asesu\n",
    "obj = Estudante(\"Mario\", 775245245)\n",
    "obj.infoEstudante()\n",
    "\n",
    "\n",
    "#aumenta estudante\n",
    "obj2 = Estudante(\"Nico\", 7845245242)\n",
    "obj2.infoEstudante()\n",
    "\n",
    "obj3 = Estudante(\"Joni\", 7834234234)\n",
    "obj3.infoEstudante()\n",
    "#fo sai totalidade estudante\n",
    "print \"--------------------------\"\n",
    "print \"Total Estudante : %d\" % Estudante.ttl_estudante"
   ]
  },
  {
   "cell_type": "code",
   "execution_count": null,
   "metadata": {
    "collapsed": true
   },
   "outputs": [],
   "source": [
    "class Superclass:\n",
    "    'kode program inheritance'\n",
    "    'Wawan H Nur, 20 Mei 2015'\n",
    "    \n",
    "    'mendefenisikan kelas super class'\n",
    "    def __init__(self):\n",
    "        print \"Memanggil konstruktor super class\"\n",
    "        \n",
    "    def superclassMethod(self):\n",
    "        print \"Memanggil model super class\"\n",
    "        \n",
    "    def setAttr(self, attr):\n",
    "        Superclass.superclassAttr = attr\n",
    "        \n",
    "    def getAttr(self):\n",
    "        print 'Atribut superclass : ', Superclass.superclassAttr"
   ]
  }
 ],
 "metadata": {
  "kernelspec": {
   "display_name": "Python 2",
   "language": "python",
   "name": "python2"
  },
  "language_info": {
   "codemirror_mode": {
    "name": "ipython",
    "version": 2
   },
   "file_extension": ".py",
   "mimetype": "text/x-python",
   "name": "python",
   "nbconvert_exporter": "python",
   "pygments_lexer": "ipython2",
   "version": "2.7.6"
  }
 },
 "nbformat": 4,
 "nbformat_minor": 0
}
