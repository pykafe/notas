{
 "cells": [
  {
   "cell_type": "markdown",
   "metadata": {},
   "source": [
    "# Classes\n",
    "You have seen some classes already\n",
    "* int\n",
    "* list\n",
    "* dict\n",
    "\n",
    "These classes store data, and have methods\n",
    "\n",
    "*We can make our own classes!*"
   ]
  },
  {
   "cell_type": "code",
   "execution_count": 8,
   "metadata": {
    "collapsed": false
   },
   "outputs": [
    {
     "name": "stdout",
     "output_type": "stream",
     "text": [
      "<__main__.Tree object at 0x10d636a50>\n",
      "<__main__.Tree object at 0x10d636f10>\n",
      "Are these trees the same object? False\n",
      "Are these trees the same type? True\n"
     ]
    }
   ],
   "source": [
    "# Define the class Tree\n",
    "class Tree(object):\n",
    "    pass\n",
    "\n",
    "# we can now create a Tree!\n",
    "my_tree = Tree()\n",
    "print my_tree\n",
    "# we can create another tree\n",
    "another_tree = Tree()\n",
    "print another_tree\n",
    "# these trees are not the same object\n",
    "print 'Are these trees the same object?', my_tree is another_tree\n",
    "print 'Are these trees the same type?', type(my_tree) is type(another_tree)"
   ]
  },
  {
   "cell_type": "markdown",
   "metadata": {},
   "source": [
    "## Classes can have methods\n",
    "just like list.append()"
   ]
  },
  {
   "cell_type": "code",
   "execution_count": 34,
   "metadata": {
    "collapsed": false
   },
   "outputs": [
    {
     "name": "stdout",
     "output_type": "stream",
     "text": [
      "Hau haan hudi\n",
      "Hau haan modo\n",
      "Hau kole\n",
      "Hau kole\n"
     ]
    }
   ],
   "source": [
    "# defining our class\n",
    "class Animal(object):\n",
    "    \n",
    "    # define a method\n",
    "    def eat(self, food):\n",
    "        print \"Hau haan\", food\n",
    "     \n",
    "    # define another method\n",
    "    def sleep(self):\n",
    "        print \"Hau kole\"\n",
    "\n",
    "        \n",
    "# instantiate an animal\n",
    "animal = Animal()\n",
    "\n",
    "# call it's methods\n",
    "animal.eat(\"hudi\")\n",
    "animal.eat('modo')\n",
    "\n",
    "# These two line do the same thing!\n",
    "animal.sleep() # we do this all the time\n",
    "Animal.sleep(animal) # we do not do this very often"
   ]
  },
  {
   "cell_type": "markdown",
   "metadata": {},
   "source": [
    "## Classes have a special constructor method\n",
    "The __init__ method is called on instantiation"
   ]
  },
  {
   "cell_type": "code",
   "execution_count": 47,
   "metadata": {
    "collapsed": false
   },
   "outputs": [
    {
     "name": "stdout",
     "output_type": "stream",
     "text": [
      "Creating a Motor with name Honda\n",
      "Creating a Motor with name Kawasaki\n",
      "Honda\n",
      "Kawasaki\n",
      "<__main__.Motor object at 0x10d6a2a10>\n"
     ]
    }
   ],
   "source": [
    "# define a motor\n",
    "class Motor(object):\n",
    "    \n",
    "    def __init__(self, name):\n",
    "        print \"Creating a Motor with name\", name\n",
    "        self.name = name        \n",
    "        \n",
    "# instantiate a motor with a name\n",
    "my_motor = Motor(\"Honda\")\n",
    "another_motor = Motor(\"Kawasaki\")\n",
    "\n",
    "# access the motor name property\n",
    "print my_motor.name\n",
    "print another_motor.name"
   ]
  },
  {
   "cell_type": "markdown",
   "metadata": {},
   "source": [
    "## Classes have a special string method\n",
    "this is called when we print the object"
   ]
  },
  {
   "cell_type": "code",
   "execution_count": 53,
   "metadata": {
    "collapsed": false
   },
   "outputs": [
    {
     "name": "stdout",
     "output_type": "stream",
     "text": [
      "Toyota\n"
     ]
    }
   ],
   "source": [
    "class Kareta(object):\n",
    "    \n",
    "    # constructor\n",
    "    def __init__(self, name):\n",
    "       self.name = name\n",
    "    \n",
    "    # to string\n",
    "    def __str__(self):\n",
    "        return self.name\n",
    "    \n",
    "# instantiate a kareta\n",
    "my_kareta = Kareta('Toyota')\n",
    "\n",
    "# print the kareta\n",
    "print my_kareta"
   ]
  },
  {
   "cell_type": "markdown",
   "metadata": {},
   "source": [
    "## Class Instances can store data in members\n",
    "The state of an object can be stored in object members"
   ]
  },
  {
   "cell_type": "code",
   "execution_count": 71,
   "metadata": {
    "collapsed": false
   },
   "outputs": [
    {
     "name": "stdout",
     "output_type": "stream",
     "text": [
      "energy 10 asleep False\n",
      "energy 5 asleep True\n",
      "energy 7 asleep True\n",
      "energy 9 asleep True\n",
      "energy 11 asleep True\n",
      "energy 13 asleep True\n",
      "energy 8 asleep True\n",
      "energy 3 asleep True\n"
     ]
    }
   ],
   "source": [
    "# defining our class\n",
    "class Animal(object):\n",
    "    \n",
    "    # constructor\n",
    "    def __init__(self):\n",
    "        self.sleeping = False\n",
    "        self.energy = 10\n",
    "\n",
    "    # define a method\n",
    "    def eat(self, food=0):\n",
    "        self.energy += food\n",
    "     \n",
    "    # define another method\n",
    "    def sleep(self):\n",
    "        self.sleeping = True\n",
    "        self.energy -= 5\n",
    "        \n",
    "    # print\n",
    "    def __str__(self):\n",
    "        return \"energy {energy} asleep {sleeping}\".format(\n",
    "            energy=self.energy,\n",
    "            sleeping=self.sleeping\n",
    "            )\n",
    "        \n",
    "# instantiate an animal\n",
    "animal = Animal()\n",
    "print animal\n",
    "animal.sleep()\n",
    "print animal\n",
    "animal.eat(2)\n",
    "print animal\n",
    "animal.eat(2)\n",
    "print animal\n",
    "animal.eat(2)\n",
    "print animal\n",
    "animal.eat(2)\n",
    "print animal\n",
    "animal.sleep()\n",
    "print animal\n",
    "animal.sleep()\n",
    "print animal"
   ]
  },
  {
   "cell_type": "markdown",
   "metadata": {},
   "source": [
    "## Classes can inherit from each other\n",
    "a Motor might inherit from a Vehicle class"
   ]
  },
  {
   "cell_type": "code",
   "execution_count": 75,
   "metadata": {
    "collapsed": false
   },
   "outputs": [
    {
     "name": "stdout",
     "output_type": "stream",
     "text": [
      "Anders\n",
      "Honda\n",
      "Karau\n"
     ]
    }
   ],
   "source": [
    "# base class\n",
    "class NamedObject(object):\n",
    "    \n",
    "    # constructor\n",
    "    def __init__(self, name):\n",
    "       self.name = name\n",
    "    \n",
    "my_named_obj = NamedObject(\"Anders\")\n",
    "print my_named_obj.name\n",
    "\n",
    "# this class inherits from NamedObject\n",
    "class Motor(NamedObject):\n",
    "    pass\n",
    "\n",
    "my_motor = Motor(\"Honda\")\n",
    "print my_motor.name\n",
    "\n",
    "# this class also inherits from NamedObject\n",
    "class Animal(NamedObject):\n",
    "    pass\n",
    "\n",
    "my_animal = Animal(\"Karau\")\n",
    "print my_animal.name"
   ]
  }
 ],
 "metadata": {
  "kernelspec": {
   "display_name": "Python 2",
   "language": "python",
   "name": "python2"
  },
  "language_info": {
   "codemirror_mode": {
    "name": "ipython",
    "version": 2
   },
   "file_extension": ".py",
   "mimetype": "text/x-python",
   "name": "python",
   "nbconvert_exporter": "python",
   "pygments_lexer": "ipython2",
   "version": "2.7.10"
  }
 },
 "nbformat": 4,
 "nbformat_minor": 0
}
