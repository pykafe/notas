{
 "cells": [
  {
   "cell_type": "markdown",
   "metadata": {},
   "source": [
    "# Even More Classes"
   ]
  },
  {
   "cell_type": "code",
   "execution_count": 5,
   "metadata": {
    "collapsed": true
   },
   "outputs": [],
   "source": [
    "class Vehicle(object):\n",
    "    \"\"\" \n",
    "    This is a Base class for all vehicles.\n",
    "    We can tell the vehicle to go\n",
    "    \"\"\"\n",
    "    \n",
    "    # we create our contstructor.\n",
    "    # Python calls this when you use `Vehicle()`\n",
    "    # You use __init__ to prepare an object for use\n",
    "    # You can pass __init__ the name of the vehicle and the fuel.\n",
    "    # Both are optional\n",
    "    def __init__(self, name=None, fuel=0):\n",
    "        self.fuel = fuel  # instance variable\n",
    "        self.name = name  # another instance variable\n",
    "        self.state = 'stopped'\n",
    "    \n",
    "    # we make a method so we can go\n",
    "    def go(self): # self is a parameter to the method\n",
    "        \n",
    "        # Through `self` you can access the variable\n",
    "        # and methods of the object.\n",
    "        if self.fuel == 0:\n",
    "            return \"Vehicle needs fuel\"\n",
    " \n",
    "        if self.state == \"going\":\n",
    "            return \"we are already going\"\n",
    "        \n",
    "        self.state = \"going\" # we set the state to going\n",
    "        \n",
    "        return \"we are going...\"\n",
    "    \n",
    "    # we make a method so we can stop\n",
    "    def stop(self):\n",
    "        if self.state == \"stopped\":\n",
    "            return \"we are already stopped\"\n",
    "        \n",
    "        self.state = \"stopped\"\n",
    "        \n",
    "        return \"we are stopping...\"\n",
    "    \n",
    "    def add_fuel(self, liters):\n",
    "        tank_size = 20 # number of liters in tank\n",
    "        if self.fuel + liters > tank_size:\n",
    "            return \"too much fuel\"\n",
    "        self.fuel = self.fuel + liters"
   ]
  },
  {
   "cell_type": "code",
   "execution_count": 73,
   "metadata": {
    "collapsed": false
   },
   "outputs": [
    {
     "data": {
      "text/plain": [
       "'we are going...'"
      ]
     },
     "execution_count": 73,
     "metadata": {},
     "output_type": "execute_result"
    }
   ],
   "source": [
    "# make and instance of a Vehicle\n",
    "vehicle = Vehicle(name=\"honda\", fuel=\"20\")\n",
    "vehicle.go()\n"
   ]
  },
  {
   "cell_type": "code",
   "execution_count": 74,
   "metadata": {
    "collapsed": false
   },
   "outputs": [
    {
     "data": {
      "text/plain": [
       "'we are already going'"
      ]
     },
     "execution_count": 74,
     "metadata": {},
     "output_type": "execute_result"
    }
   ],
   "source": [
    "vehicle.fuel = 10 # we fill the tank with fuel\n",
    "vehicle.go() # We can tell the vehicle to go"
   ]
  },
  {
   "cell_type": "code",
   "execution_count": 75,
   "metadata": {
    "collapsed": false
   },
   "outputs": [
    {
     "data": {
      "text/plain": [
       "'we are already going'"
      ]
     },
     "execution_count": 75,
     "metadata": {},
     "output_type": "execute_result"
    }
   ],
   "source": [
    "vehicle.go() # The vehicle knows if it is going or stopped"
   ]
  },
  {
   "cell_type": "code",
   "execution_count": 76,
   "metadata": {
    "collapsed": false
   },
   "outputs": [
    {
     "data": {
      "text/plain": [
       "'we are stopping...'"
      ]
     },
     "execution_count": 76,
     "metadata": {},
     "output_type": "execute_result"
    }
   ],
   "source": [
    "vehicle.stop() # The vehicle can stop"
   ]
  },
  {
   "cell_type": "code",
   "execution_count": 77,
   "metadata": {
    "collapsed": false
   },
   "outputs": [
    {
     "data": {
      "text/plain": [
       "'we are already stopped'"
      ]
     },
     "execution_count": 77,
     "metadata": {},
     "output_type": "execute_result"
    }
   ],
   "source": [
    "vehicle.stop() # The vehicle knows if it is stopped"
   ]
  },
  {
   "cell_type": "code",
   "execution_count": 78,
   "metadata": {
    "collapsed": false
   },
   "outputs": [
    {
     "data": {
      "text/plain": [
       "'honda'"
      ]
     },
     "execution_count": 78,
     "metadata": {},
     "output_type": "execute_result"
    }
   ],
   "source": [
    "vehicle.name"
   ]
  },
  {
   "cell_type": "markdown",
   "metadata": {},
   "source": [
    "## Notes\n",
    "- Functions do not have to take a parameter `self`\n",
    "- Methods (a special kind of fucntion) must take a parameter `self`\n",
    "- Python will pass `self` to all methods\n",
    "- __init__ is a special method. Python depends on it. \n"
   ]
  },
  {
   "cell_type": "markdown",
   "metadata": {},
   "source": [
    "# Inheritance and Overriding Methods"
   ]
  },
  {
   "cell_type": "code",
   "execution_count": 6,
   "metadata": {
    "collapsed": false
   },
   "outputs": [
    {
     "data": {
      "text/plain": [
       "3"
      ]
     },
     "execution_count": 6,
     "metadata": {},
     "output_type": "execute_result"
    }
   ],
   "source": [
    "vehicle = Vehicle(fuel=3) # we can create Vehicles and give them fuel\n",
    "vehicle.fuel"
   ]
  },
  {
   "cell_type": "code",
   "execution_count": 8,
   "metadata": {
    "collapsed": false
   },
   "outputs": [],
   "source": [
    "vehicle.add_fuel(4) # We can also add fuel to a Vehicle"
   ]
  },
  {
   "cell_type": "code",
   "execution_count": 9,
   "metadata": {
    "collapsed": false
   },
   "outputs": [
    {
     "data": {
      "text/plain": [
       "7"
      ]
     },
     "execution_count": 9,
     "metadata": {},
     "output_type": "execute_result"
    }
   ],
   "source": [
    "vehicle.fuel"
   ]
  },
  {
   "cell_type": "code",
   "execution_count": 16,
   "metadata": {
    "collapsed": true
   },
   "outputs": [],
   "source": [
    "class Motor(Vehicle):\n",
    "    \"\"\"\n",
    "    Motorcycles are small Vehicles. So they have smaller fuel tanks.\n",
    "    \"\"\"\n",
    "    \n",
    "    # we override the add_fuel method to match the smaller tank of the motorcylce\n",
    "    # and to give a better message\n",
    "    def add_fuel(self, liters):\n",
    "        tank_size = 10 # number of liters in tank. Smaller than the `Vehicle` tank_size\n",
    "        if self.fuel + liters > tank_size:\n",
    "            return \"too much fuel for this motorcycle. They have small tanks\"\n",
    "        self.fuel = self.fuel + liters"
   ]
  },
  {
   "cell_type": "code",
   "execution_count": 17,
   "metadata": {
    "collapsed": false
   },
   "outputs": [
    {
     "data": {
      "text/plain": [
       "3"
      ]
     },
     "execution_count": 17,
     "metadata": {},
     "output_type": "execute_result"
    }
   ],
   "source": [
    "motor = Motor(fuel=3)\n",
    "motor.fuel"
   ]
  },
  {
   "cell_type": "code",
   "execution_count": 18,
   "metadata": {
    "collapsed": false
   },
   "outputs": [
    {
     "data": {
      "text/plain": [
       "'we are going...'"
      ]
     },
     "execution_count": 18,
     "metadata": {},
     "output_type": "execute_result"
    }
   ],
   "source": [
    "motor.go()"
   ]
  },
  {
   "cell_type": "code",
   "execution_count": 19,
   "metadata": {
    "collapsed": false
   },
   "outputs": [
    {
     "data": {
      "text/plain": [
       "'too much fuel for this motorcycle. They have small tanks'"
      ]
     },
     "execution_count": 19,
     "metadata": {},
     "output_type": "execute_result"
    }
   ],
   "source": [
    "motor.add_fuel(8)"
   ]
  },
  {
   "cell_type": "code",
   "execution_count": 20,
   "metadata": {
    "collapsed": false
   },
   "outputs": [
    {
     "data": {
      "text/plain": [
       "6"
      ]
     },
     "execution_count": 20,
     "metadata": {},
     "output_type": "execute_result"
    }
   ],
   "source": [
    "motor.add_fuel(3)\n",
    "motor.fuel"
   ]
  },
  {
   "cell_type": "code",
   "execution_count": null,
   "metadata": {
    "collapsed": true
   },
   "outputs": [],
   "source": []
  }
 ],
 "metadata": {
  "kernelspec": {
   "display_name": "Python 2",
   "language": "python",
   "name": "python2"
  },
  "language_info": {
   "codemirror_mode": {
    "name": "ipython",
    "version": 2
   },
   "file_extension": ".py",
   "mimetype": "text/x-python",
   "name": "python",
   "nbconvert_exporter": "python",
   "pygments_lexer": "ipython2",
   "version": "2.7.9"
  }
 },
 "nbformat": 4,
 "nbformat_minor": 0
}
