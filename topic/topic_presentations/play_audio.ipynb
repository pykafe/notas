{
 "cells": [
  {
   "cell_type": "markdown",
   "metadata": {},
   "source": [
    "### The music module is closely tied to pygame.mixerpygame module for loading and playing sounds. Use the music module to control the playback of music in the sound mixer.\n",
    "\n",
    "This will load a music filename/file object and prepare it for playback:\n"
   ]
  },
  {
   "cell_type": "markdown",
   "metadata": {},
   "source": [
    "- ```pygame.mixer.music.play()```This will play the loaded music stream. If the music is already playing it will be restarted."
   ]
  },
  {
   "cell_type": "markdown",
   "metadata": {},
   "source": [
    "- ```pygame.mixer.music.pause()``` Temporarily stop playback of the music stream. It can be resumed with the pygame.mixer.music.unpause() function."
   ]
  },
  {
   "cell_type": "markdown",
   "metadata": {},
   "source": [
    "- ```pygame.mixer.music.unpause()``` This will resume the playback of a music stream after it has been paused."
   ]
  },
  {
   "cell_type": "markdown",
   "metadata": {},
   "source": [
    "- ```pygame.mixer.music.stop()```Stops the music playback if it is currently playing.\n"
   ]
  },
  {
   "cell_type": "markdown",
   "metadata": {},
   "source": [
    "But the first need to installing pygame `$ pip install pygame`"
   ]
  },
  {
   "cell_type": "code",
   "execution_count": 28,
   "metadata": {},
   "outputs": [
    {
     "name": "stdout",
     "output_type": "stream",
     "text": [
      "What do you want to do? \n",
      "1) Play \n",
      "2) Pause \n",
      "3) Unpause \n",
      "4) Stop \n",
      "5) Quit \n",
      "4\n",
      "Your are now stoping the music\n",
      "What do you want to do? \n",
      "1) Play \n",
      "2) Pause \n",
      "3) Unpause \n",
      "4) Stop \n",
      "5) Quit \n",
      "5\n",
      "Thank you for playing this music\n"
     ]
    }
   ],
   "source": [
    "import pygame\n",
    "from pygame import mixer\n",
    "\n",
    "pygame.mixer.init()\n",
    "pygame.mixer.music.load(\"directory/audio_name.mp3\")\n",
    "    \n",
    "def PlayMusic():\n",
    "\n",
    "\n",
    "    userChoice = input(\"What do you want to do? \\n1) Play \\n2) Pause \\n3) Unpause \\n4) Stop \\n5) Quit \\n\")\n",
    "    \n",
    "    # Check and see what the typed.\n",
    "    # If the user typed 1\n",
    "    if userChoice == \"1\":\n",
    "        # Store what the user typed into a variable\n",
    "        pygame.mixer.music.play()\n",
    "        print (\"Your are now playing the music\")\n",
    "        PlayMusic()\n",
    "        \n",
    "    # If the user typed 2\n",
    "    elif userChoice == \"2\":\n",
    "        # Store what the user typed into a variable\n",
    "        pygame.mixer.music.pause()\n",
    "        print (\"Your are now Pause the music, please type 3 to continue\")\n",
    "        PlayMusic()\n",
    "        \n",
    "    # If the user typed 3\n",
    "    elif userChoice == \"3\":\n",
    "        # Store what the user typed into a variable\n",
    "        pygame.mixer.music.unpause()\n",
    "        print (\"Your are now continue to playing the music\")\n",
    "        PlayMusic()\n",
    "        \n",
    "    # If the user typed 4\n",
    "    elif userChoice == \"4\":\n",
    "        # Store what the user typed into a variable\n",
    "        pygame.mixer.music.stop()\n",
    "        print (\"Your are now stoping the music\")\n",
    "        PlayMusic()\n",
    "        \n",
    "    elif userChoice == \"5\":\n",
    "        # Store what the user typed into a variable\n",
    "        pygame.mixer.music.stop()\n",
    "        print (\"Thank you for playing this music\")\n",
    "        \n",
    "    # If the user typed anything else  \n",
    "    else:\n",
    "        # Tell the user what they did wrong.\n",
    "        print(\"Error: You entered invalid information, please try again\")\n",
    "        # Run the script again.\n",
    "        PlayMusic()\n",
    "        \n",
    "PlayMusic()"
   ]
  },
  {
   "cell_type": "code",
   "execution_count": null,
   "metadata": {
    "collapsed": true
   },
   "outputs": [],
   "source": [
    "\n"
   ]
  },
  {
   "cell_type": "code",
   "execution_count": null,
   "metadata": {
    "collapsed": true
   },
   "outputs": [],
   "source": []
  }
 ],
 "metadata": {
  "kernelspec": {
   "display_name": "Python 3",
   "language": "python",
   "name": "python3"
  },
  "language_info": {
   "codemirror_mode": {
    "name": "ipython",
    "version": 2
   },
   "file_extension": ".py",
   "mimetype": "text/x-python",
   "name": "python",
   "nbconvert_exporter": "python",
   "pygments_lexer": "ipython2",
   "version": "2.7.12"
  }
 },
 "nbformat": 4,
 "nbformat_minor": 2
}
