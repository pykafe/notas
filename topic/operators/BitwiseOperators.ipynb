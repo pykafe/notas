{
 "cells": [
  {
   "cell_type": "markdown",
   "id": "4115eed1-603f-42c1-8a62-8d796e07878d",
   "metadata": {},
   "source": [
    "# Bitwise Operators\n",
    "\n",
    "https://www.digitalocean.com/community/tutorials/python-bitwise-operators\n",
    "\n",
    "**&** is a bitwise *and* operator"
   ]
  },
  {
   "cell_type": "code",
   "execution_count": 3,
   "id": "679eb386-30eb-470e-967b-176f268305fd",
   "metadata": {},
   "outputs": [
    {
     "data": {
      "text/plain": [
       "3"
      ]
     },
     "execution_count": 3,
     "metadata": {},
     "output_type": "execute_result"
    }
   ],
   "source": [
    "2 and 3"
   ]
  },
  {
   "cell_type": "code",
   "execution_count": 4,
   "id": "acf513d5-bde3-45d3-86ba-3ce895e5dcf4",
   "metadata": {},
   "outputs": [
    {
     "data": {
      "text/plain": [
       "2"
      ]
     },
     "execution_count": 4,
     "metadata": {},
     "output_type": "execute_result"
    }
   ],
   "source": [
    "2 & 3"
   ]
  },
  {
   "cell_type": "markdown",
   "id": "379f1b21-75ac-4b5b-a33e-b8ed47fac87f",
   "metadata": {},
   "source": [
    "The integer 2 is represented in binary by `10`\n",
    "\n",
    "The integer 3 is represented in binary by `11`\n",
    "\n",
    "Bitwise _and_ looks at each binary digit from the right to left and compares matching digits in each operand producing a 1, if BOTH those digits are 1, else a 0.\n",
    "\n",
    "| |decimal|binary|\n",
    "|-|-|-|\n",
    "| lhs    | 2 | 10 |\n",
    "| rhs    | 3 | 11 |\n",
    "| result | 2 | 10 |\n",
    "\n",
    "| |decimal|binary|\n",
    "|-|-|-|\n",
    "| lhs    | 4 | 100 |\n",
    "| rhs    | 6 | 110 |\n",
    "| result | 4 | 100 |\n",
    "\n",
    "23 & 37\n",
    "\n",
    "| |decimal|binary|\n",
    "|-|-|-|\n",
    "| lhs    | 23 | 010111 |\n",
    "| rhs    | 37 | 100101 |\n",
    "| result |  5 | 000101 |"
   ]
  },
  {
   "cell_type": "code",
   "execution_count": 5,
   "id": "287fbf3d-d8fc-4b27-baaa-6f2324e2956c",
   "metadata": {},
   "outputs": [
    {
     "data": {
      "text/plain": [
       "4"
      ]
     },
     "execution_count": 5,
     "metadata": {},
     "output_type": "execute_result"
    }
   ],
   "source": [
    "4 & 6"
   ]
  },
  {
   "cell_type": "markdown",
   "id": "c6e6c12f-37cd-4f3c-b6c0-40736f5bcef2",
   "metadata": {},
   "source": [
    "Bitwise _or_ looks at each binary digit from the right to left and compares matching digits in each operand producing a 1, if ONE OF those digits is a 1, else a 0.\n",
    "\n",
    "2 | 3\n",
    "\n",
    "| |decimal|binary|\n",
    "|-|-|-|\n",
    "| lhs    | 2 | 10 |\n",
    "| rhs    | 3 | 11 |\n",
    "| result | 3 | 11 |\n",
    "\n",
    "23 | 37\n",
    "\n",
    "| |decimal|binary|\n",
    "|-|-|-|\n",
    "| lhs    | 23 | 010111 |\n",
    "| rhs    | 37 | 100101 |\n",
    "| result | 55 | 110111 |\n",
    "\n",
    "\n"
   ]
  },
  {
   "cell_type": "markdown",
   "id": "c1c8fc58-7750-433b-8f48-7f1b92f6a4fe",
   "metadata": {},
   "source": [
    "Bitwise _exclusive or_ looks at each binary digit from the right to left and compares matching digits in each operand producing a 1, if ONLY ONE OF those digits is a 1, else a 0.\n",
    "\n",
    "\n",
    "23 ^ 37\n",
    "\n",
    "| |decimal|binary|\n",
    "|-|-|-|\n",
    "| lhs    | 23 | 010111 |\n",
    "| rhs    | 37 | 100101 |\n",
    "| result | 50 | 110010 |"
   ]
  },
  {
   "cell_type": "code",
   "execution_count": null,
   "id": "09fb1f18-1c45-4117-ab5a-7c152ea37272",
   "metadata": {},
   "outputs": [],
   "source": [
    "decimal"
   ]
  },
  {
   "cell_type": "code",
   "execution_count": 6,
   "id": "2eb107be-2b5a-448c-87f0-517ce1c16ea6",
   "metadata": {},
   "outputs": [
    {
     "data": {
      "text/plain": [
       "3"
      ]
     },
     "execution_count": 6,
     "metadata": {},
     "output_type": "execute_result"
    }
   ],
   "source": [
    "2 | 3"
   ]
  },
  {
   "cell_type": "code",
   "execution_count": 7,
   "id": "e2e2ac66-b942-4ec2-a386-13a0188a0bd6",
   "metadata": {},
   "outputs": [
    {
     "data": {
      "text/plain": [
       "2"
      ]
     },
     "execution_count": 7,
     "metadata": {},
     "output_type": "execute_result"
    }
   ],
   "source": [
    "2 or 3"
   ]
  },
  {
   "cell_type": "code",
   "execution_count": 8,
   "id": "941751aa-f3a9-4668-9bbf-aa1e0c70c4ac",
   "metadata": {},
   "outputs": [
    {
     "data": {
      "text/plain": [
       "23"
      ]
     },
     "execution_count": 8,
     "metadata": {},
     "output_type": "execute_result"
    }
   ],
   "source": [
    "23 or 37"
   ]
  },
  {
   "cell_type": "code",
   "execution_count": 9,
   "id": "add763cf-12f6-4dd4-8f24-79af069c9de2",
   "metadata": {},
   "outputs": [
    {
     "data": {
      "text/plain": [
       "'0b10111'"
      ]
     },
     "execution_count": 9,
     "metadata": {},
     "output_type": "execute_result"
    }
   ],
   "source": [
    "bin(23)"
   ]
  },
  {
   "cell_type": "code",
   "execution_count": 15,
   "id": "86b39753-1fda-41f2-9cb4-b5dc0e020ed5",
   "metadata": {},
   "outputs": [
    {
     "data": {
      "text/plain": [
       "'0b100101'"
      ]
     },
     "execution_count": 15,
     "metadata": {},
     "output_type": "execute_result"
    }
   ],
   "source": [
    "bin(37)"
   ]
  },
  {
   "cell_type": "code",
   "execution_count": 16,
   "id": "e9d6ff89-11bb-4741-b985-e8f93da9707d",
   "metadata": {},
   "outputs": [
    {
     "data": {
      "text/plain": [
       "'0b110111'"
      ]
     },
     "execution_count": 16,
     "metadata": {},
     "output_type": "execute_result"
    }
   ],
   "source": [
    "bin(23|37)"
   ]
  },
  {
   "cell_type": "code",
   "execution_count": 17,
   "id": "9f6259db-2cca-45a6-9be6-04f907b5068e",
   "metadata": {},
   "outputs": [
    {
     "data": {
      "text/plain": [
       "50"
      ]
     },
     "execution_count": 17,
     "metadata": {},
     "output_type": "execute_result"
    }
   ],
   "source": [
    "23^37"
   ]
  },
  {
   "cell_type": "code",
   "execution_count": 18,
   "id": "a94a0d10-2957-4a12-9546-4b4a9b8bf6c5",
   "metadata": {},
   "outputs": [
    {
     "data": {
      "text/plain": [
       "5"
      ]
     },
     "execution_count": 18,
     "metadata": {},
     "output_type": "execute_result"
    }
   ],
   "source": [
    "23&37"
   ]
  },
  {
   "cell_type": "code",
   "execution_count": 19,
   "id": "f1a5f0f9-e6a3-4104-8115-1bf2e30151d9",
   "metadata": {},
   "outputs": [
    {
     "data": {
      "text/plain": [
       "3"
      ]
     },
     "execution_count": 19,
     "metadata": {},
     "output_type": "execute_result"
    }
   ],
   "source": [
    "2 and 3\n"
   ]
  },
  {
   "cell_type": "code",
   "execution_count": 20,
   "id": "33941daf-17c2-44e0-830f-1e5a0f59e14f",
   "metadata": {},
   "outputs": [
    {
     "data": {
      "text/plain": [
       "3"
      ]
     },
     "execution_count": 20,
     "metadata": {},
     "output_type": "execute_result"
    }
   ],
   "source": [
    "2 | 3"
   ]
  },
  {
   "cell_type": "code",
   "execution_count": 22,
   "id": "b7d6ca18-cd4b-4000-816f-202f909dc880",
   "metadata": {},
   "outputs": [
    {
     "data": {
      "text/plain": [
       "3"
      ]
     },
     "execution_count": 22,
     "metadata": {},
     "output_type": "execute_result"
    }
   ],
   "source": [
    "'anything_truthy' and 3"
   ]
  },
  {
   "cell_type": "code",
   "execution_count": 23,
   "id": "6b9bf11a-d988-4a25-b651-948f52e5f67b",
   "metadata": {},
   "outputs": [
    {
     "data": {
      "text/plain": [
       "3"
      ]
     },
     "execution_count": 23,
     "metadata": {},
     "output_type": "execute_result"
    }
   ],
   "source": [
    "['any', 'truthy', 'thing'] and 3"
   ]
  },
  {
   "cell_type": "code",
   "execution_count": 24,
   "id": "966fd82d-233e-4418-bb83-d2ff5e753feb",
   "metadata": {},
   "outputs": [
    {
     "data": {
      "text/plain": [
       "47"
      ]
     },
     "execution_count": 24,
     "metadata": {},
     "output_type": "execute_result"
    }
   ],
   "source": [
    "45 | 3"
   ]
  },
  {
   "cell_type": "code",
   "execution_count": 25,
   "id": "9754f6bf-60da-4a9e-9c9d-f243315c0ab7",
   "metadata": {},
   "outputs": [
    {
     "ename": "TypeError",
     "evalue": "unsupported operand type(s) for |: 'list' and 'int'",
     "output_type": "error",
     "traceback": [
      "\u001b[0;31m---------------------------------------------------------------------------\u001b[0m",
      "\u001b[0;31mTypeError\u001b[0m                                 Traceback (most recent call last)",
      "Cell \u001b[0;32mIn[25], line 1\u001b[0m\n\u001b[0;32m----> 1\u001b[0m \u001b[43m[\u001b[49m\u001b[43m]\u001b[49m\u001b[43m \u001b[49m\u001b[38;5;241;43m|\u001b[39;49m\u001b[43m \u001b[49m\u001b[38;5;241;43m3\u001b[39;49m\n",
      "\u001b[0;31mTypeError\u001b[0m: unsupported operand type(s) for |: 'list' and 'int'"
     ]
    }
   ],
   "source": [
    "[] | 3"
   ]
  },
  {
   "cell_type": "code",
   "execution_count": 26,
   "id": "505f37e5-9539-42a9-a191-3a1811e2f43a",
   "metadata": {},
   "outputs": [
    {
     "ename": "TypeError",
     "evalue": "unsupported operand type(s) for |: 'str' and 'int'",
     "output_type": "error",
     "traceback": [
      "\u001b[0;31m---------------------------------------------------------------------------\u001b[0m",
      "\u001b[0;31mTypeError\u001b[0m                                 Traceback (most recent call last)",
      "Cell \u001b[0;32mIn[26], line 1\u001b[0m\n\u001b[0;32m----> 1\u001b[0m \u001b[38;5;124;43m'\u001b[39;49m\u001b[38;5;124;43mhello\u001b[39;49m\u001b[38;5;124;43m'\u001b[39;49m\u001b[43m \u001b[49m\u001b[38;5;241;43m|\u001b[39;49m\u001b[43m \u001b[49m\u001b[38;5;241;43m3\u001b[39;49m\n",
      "\u001b[0;31mTypeError\u001b[0m: unsupported operand type(s) for |: 'str' and 'int'"
     ]
    }
   ],
   "source": [
    "'hello' | 3"
   ]
  },
  {
   "cell_type": "code",
   "execution_count": 27,
   "id": "2b4de12b-353c-4896-a0ee-4a0de571510b",
   "metadata": {},
   "outputs": [
    {
     "ename": "TypeError",
     "evalue": "unsupported operand type(s) for |: 'float' and 'float'",
     "output_type": "error",
     "traceback": [
      "\u001b[0;31m---------------------------------------------------------------------------\u001b[0m",
      "\u001b[0;31mTypeError\u001b[0m                                 Traceback (most recent call last)",
      "Cell \u001b[0;32mIn[27], line 1\u001b[0m\n\u001b[0;32m----> 1\u001b[0m \u001b[38;5;241;43m2.3\u001b[39;49m\u001b[43m \u001b[49m\u001b[38;5;241;43m|\u001b[39;49m\u001b[43m \u001b[49m\u001b[38;5;241;43m5.4\u001b[39;49m\n",
      "\u001b[0;31mTypeError\u001b[0m: unsupported operand type(s) for |: 'float' and 'float'"
     ]
    }
   ],
   "source": [
    "2.3 | 5.4"
   ]
  },
  {
   "cell_type": "code",
   "execution_count": null,
   "id": "5250f06d-8c5b-4925-81a7-a50ce4639e28",
   "metadata": {},
   "outputs": [],
   "source": [
    "Bitwise _exclusive or_ looks at each binary digit from the right to left and compares matching digits in each operand producing a 1, if ONLY ONE OF those digits is a 1, else a 0.\n",
    "\n",
    "\n",
    "23 ^ 37\n",
    "\n",
    "| |decimal|binary|\n",
    "|-|-|-|\n",
    "| lhs    | 23 | 010111 |\n",
    "| rhs    | 37 | 100101 |\n",
    "| result | 50 | 110010 |"
   ]
  },
  {
   "cell_type": "code",
   "execution_count": 28,
   "id": "01e808a1-d277-45c4-ab89-f48b42bb35c4",
   "metadata": {},
   "outputs": [
    {
     "data": {
      "text/plain": [
       "'0b101'"
      ]
     },
     "execution_count": 28,
     "metadata": {},
     "output_type": "execute_result"
    }
   ],
   "source": [
    "bin(5)"
   ]
  },
  {
   "cell_type": "code",
   "execution_count": 39,
   "id": "c2f0823d-430c-4eb9-b046-fab7d714b964",
   "metadata": {},
   "outputs": [
    {
     "name": "stdout",
     "output_type": "stream",
     "text": [
      "0b1010\n"
     ]
    },
    {
     "data": {
      "text/plain": [
       "10"
      ]
     },
     "execution_count": 39,
     "metadata": {},
     "output_type": "execute_result"
    }
   ],
   "source": [
    "print(bin(5<<1))\n",
    "5<<1"
   ]
  },
  {
   "cell_type": "code",
   "execution_count": 40,
   "id": "6001fab4-2873-4634-a05c-10f24abfda3a",
   "metadata": {},
   "outputs": [
    {
     "name": "stdout",
     "output_type": "stream",
     "text": [
      "0b10100\n"
     ]
    },
    {
     "data": {
      "text/plain": [
       "20"
      ]
     },
     "execution_count": 40,
     "metadata": {},
     "output_type": "execute_result"
    }
   ],
   "source": [
    "print(bin(5<<2))\n",
    "5<<2"
   ]
  },
  {
   "cell_type": "code",
   "execution_count": 41,
   "id": "6eb64f23-d982-4104-b07a-ab76391a15b5",
   "metadata": {},
   "outputs": [
    {
     "name": "stdout",
     "output_type": "stream",
     "text": [
      "0b101000\n"
     ]
    },
    {
     "data": {
      "text/plain": [
       "40"
      ]
     },
     "execution_count": 41,
     "metadata": {},
     "output_type": "execute_result"
    }
   ],
   "source": [
    "print(bin(5<<3))\n",
    "5<<3"
   ]
  },
  {
   "cell_type": "code",
   "execution_count": 44,
   "id": "e93888bc-939f-45d2-94ac-ad94cf9ce5e6",
   "metadata": {},
   "outputs": [
    {
     "name": "stdout",
     "output_type": "stream",
     "text": [
      "0b1010000\n"
     ]
    },
    {
     "data": {
      "text/plain": [
       "80"
      ]
     },
     "execution_count": 44,
     "metadata": {},
     "output_type": "execute_result"
    }
   ],
   "source": [
    "print(bin(5<<4))\n",
    "5<<4"
   ]
  },
  {
   "cell_type": "code",
   "execution_count": 35,
   "id": "c4325cbb-76f6-4387-b232-0083f0a9e6b2",
   "metadata": {},
   "outputs": [
    {
     "data": {
      "text/plain": [
       "'0b10100000'"
      ]
     },
     "execution_count": 35,
     "metadata": {},
     "output_type": "execute_result"
    }
   ],
   "source": [
    "bin(5<<5)"
   ]
  },
  {
   "cell_type": "code",
   "execution_count": 45,
   "id": "61039f37-cd52-445f-b90a-ba48bfcf978a",
   "metadata": {},
   "outputs": [
    {
     "data": {
      "text/plain": [
       "'0b101011101'"
      ]
     },
     "execution_count": 45,
     "metadata": {},
     "output_type": "execute_result"
    }
   ],
   "source": [
    "bin(349)"
   ]
  },
  {
   "cell_type": "code",
   "execution_count": 46,
   "id": "b37902aa-bf1c-4067-976f-fb23d6851fed",
   "metadata": {},
   "outputs": [
    {
     "name": "stdout",
     "output_type": "stream",
     "text": [
      "0b10101110\n"
     ]
    },
    {
     "data": {
      "text/plain": [
       "174"
      ]
     },
     "execution_count": 46,
     "metadata": {},
     "output_type": "execute_result"
    }
   ],
   "source": [
    "print(bin(349>>1))\n",
    "349>>1"
   ]
  },
  {
   "cell_type": "code",
   "execution_count": 47,
   "id": "2e39e3c9-4a21-46a3-990e-fff195472a71",
   "metadata": {},
   "outputs": [
    {
     "name": "stdout",
     "output_type": "stream",
     "text": [
      "0b1010111\n"
     ]
    },
    {
     "data": {
      "text/plain": [
       "87"
      ]
     },
     "execution_count": 47,
     "metadata": {},
     "output_type": "execute_result"
    }
   ],
   "source": [
    "print(bin(349>>2))\n",
    "349>>2"
   ]
  },
  {
   "cell_type": "code",
   "execution_count": 48,
   "id": "53a6afdf-8a8e-4d6d-be37-222cf6cb8bec",
   "metadata": {},
   "outputs": [
    {
     "name": "stdout",
     "output_type": "stream",
     "text": [
      "0b101011\n"
     ]
    },
    {
     "data": {
      "text/plain": [
       "43"
      ]
     },
     "execution_count": 48,
     "metadata": {},
     "output_type": "execute_result"
    }
   ],
   "source": [
    "print(bin(349>>3))\n",
    "349>>3"
   ]
  },
  {
   "cell_type": "code",
   "execution_count": 49,
   "id": "a28e5140-3578-4407-9a30-7cfc4c7e2a99",
   "metadata": {},
   "outputs": [
    {
     "name": "stdout",
     "output_type": "stream",
     "text": [
      "0b10101\n"
     ]
    },
    {
     "data": {
      "text/plain": [
       "21"
      ]
     },
     "execution_count": 49,
     "metadata": {},
     "output_type": "execute_result"
    }
   ],
   "source": [
    "print(bin(349>>4))\n",
    "349>>4"
   ]
  },
  {
   "cell_type": "code",
   "execution_count": 50,
   "id": "7f53e962-89a7-4aeb-b5f1-b44096a8391f",
   "metadata": {},
   "outputs": [
    {
     "name": "stdout",
     "output_type": "stream",
     "text": [
      "0b1010\n"
     ]
    },
    {
     "data": {
      "text/plain": [
       "10"
      ]
     },
     "execution_count": 50,
     "metadata": {},
     "output_type": "execute_result"
    }
   ],
   "source": [
    "print(bin(349>>5))\n",
    "349>>5"
   ]
  },
  {
   "cell_type": "code",
   "execution_count": 51,
   "id": "6c7b7242-f3d3-4c3b-930d-23c2ac0ae752",
   "metadata": {},
   "outputs": [
    {
     "name": "stdout",
     "output_type": "stream",
     "text": [
      "0b101\n"
     ]
    },
    {
     "data": {
      "text/plain": [
       "5"
      ]
     },
     "execution_count": 51,
     "metadata": {},
     "output_type": "execute_result"
    }
   ],
   "source": [
    "print(bin(349>>6))\n",
    "349>>6"
   ]
  },
  {
   "cell_type": "code",
   "execution_count": 52,
   "id": "2cfa8c79-fb16-4619-8053-79df7b45b137",
   "metadata": {},
   "outputs": [
    {
     "name": "stdout",
     "output_type": "stream",
     "text": [
      "0b10\n"
     ]
    },
    {
     "data": {
      "text/plain": [
       "2"
      ]
     },
     "execution_count": 52,
     "metadata": {},
     "output_type": "execute_result"
    }
   ],
   "source": [
    "print(bin(349>>7))\n",
    "349>>7"
   ]
  },
  {
   "cell_type": "code",
   "execution_count": 54,
   "id": "65767ee2-a587-4074-aa2f-5d09844a457b",
   "metadata": {},
   "outputs": [
    {
     "data": {
      "text/plain": [
       "174"
      ]
     },
     "execution_count": 54,
     "metadata": {},
     "output_type": "execute_result"
    }
   ],
   "source": [
    "349 // 2"
   ]
  },
  {
   "cell_type": "code",
   "execution_count": 56,
   "id": "fb356eac-f090-4478-8bf6-118093ed26e1",
   "metadata": {},
   "outputs": [
    {
     "data": {
      "text/plain": [
       "174"
      ]
     },
     "execution_count": 56,
     "metadata": {},
     "output_type": "execute_result"
    }
   ],
   "source": [
    "349>>1"
   ]
  },
  {
   "cell_type": "code",
   "execution_count": 58,
   "id": "3641ab7a-e0c3-4b46-ae9a-2627b1af9066",
   "metadata": {},
   "outputs": [
    {
     "data": {
      "text/plain": [
       "87"
      ]
     },
     "execution_count": 58,
     "metadata": {},
     "output_type": "execute_result"
    }
   ],
   "source": [
    "349 // 4"
   ]
  },
  {
   "cell_type": "code",
   "execution_count": 59,
   "id": "8d848c0f-5f46-4063-93af-247c935ef4c9",
   "metadata": {},
   "outputs": [
    {
     "data": {
      "text/plain": [
       "87"
      ]
     },
     "execution_count": 59,
     "metadata": {},
     "output_type": "execute_result"
    }
   ],
   "source": [
    "349>>2"
   ]
  },
  {
   "cell_type": "code",
   "execution_count": null,
   "id": "d44fe1ec-b6b8-4542-817d-0d10fe61aaa7",
   "metadata": {},
   "outputs": [],
   "source": [
    "& | ^ ~ >> <<"
   ]
  }
 ],
 "metadata": {
  "kernelspec": {
   "display_name": "Python 3 (ipykernel)",
   "language": "python",
   "name": "python3"
  },
  "language_info": {
   "codemirror_mode": {
    "name": "ipython",
    "version": 3
   },
   "file_extension": ".py",
   "mimetype": "text/x-python",
   "name": "python",
   "nbconvert_exporter": "python",
   "pygments_lexer": "ipython3",
   "version": "3.11.1"
  }
 },
 "nbformat": 4,
 "nbformat_minor": 5
}
