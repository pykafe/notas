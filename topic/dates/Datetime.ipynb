{
 "cells": [
  {
   "cell_type": "markdown",
   "metadata": {},
   "source": [
    "# Python Datetimes\n",
    "again we use the datetime module, imported as dt"
   ]
  },
  {
   "cell_type": "code",
   "execution_count": 32,
   "metadata": {
    "collapsed": false
   },
   "outputs": [
    {
     "name": "stdout",
     "output_type": "stream",
     "text": [
      "2016-02-20 11:40:09.144956\n",
      "2016-02-20\n",
      "11:40:09.144956\n"
     ]
    }
   ],
   "source": [
    "import datetime as dt\n",
    "\n",
    "# get the datetime now!\n",
    "now = dt.datetime.now()\n",
    "print now\n",
    "\n",
    "# datetimes have date part\n",
    "print now.date()\n",
    "\n",
    "# datetimes have a time part\n",
    "print now.time()"
   ]
  },
  {
   "cell_type": "markdown",
   "metadata": {},
   "source": [
    "# There are two types of datetime\n",
    "\n",
    "1. Naive - naive means \"not knowing - hau la hatene\"\n",
    "2. Aware - aware means \"knowing - hatene\"\n",
    "\n",
    "Naive datetimes do NOT know which timezone they are in\n",
    "Aware datetimes DO know which timezone they are in"
   ]
  },
  {
   "cell_type": "markdown",
   "metadata": {},
   "source": [
    "# We can create datetimes for any date and time"
   ]
  },
  {
   "cell_type": "code",
   "execution_count": 46,
   "metadata": {
    "collapsed": false
   },
   "outputs": [
    {
     "name": "stdout",
     "output_type": "stream",
     "text": [
      "2000-04-12 04:30:12.000987\n",
      "1989-08-01 00:00:00\n",
      "Nando is old, how old? 9699 days, 11:57:38.805228\n"
     ]
    }
   ],
   "source": [
    "\n",
    "my_datetime = dt.datetime(2000, 4, 12, 4, 30, 12, 987)\n",
    "print my_datetime\n",
    "\n",
    "nando_was_born = dt.datetime(1989, 8, 1)\n",
    "print nando_was_born\n",
    "\n",
    "# get the datetime now!\n",
    "now = dt.datetime.now()\n",
    "\n",
    "print \"Nando is old, how old?\", now - nando_was_born"
   ]
  },
  {
   "cell_type": "markdown",
   "metadata": {},
   "source": [
    "# Differences between dates and datetimes ARE NOT Dates OR Datetimes"
   ]
  },
  {
   "cell_type": "code",
   "execution_count": 60,
   "metadata": {
    "collapsed": false
   },
   "outputs": [
    {
     "name": "stdout",
     "output_type": "stream",
     "text": [
      "1979-02-28 06:00:00\n",
      "<type 'datetime.datetime'>\n",
      "<type 'datetime.datetime'>\n",
      "<type 'datetime.timedelta'>\n",
      "13506\n",
      "1 day, 3:00:00\n",
      "1 day, 0:00:03\n",
      "1 day, 3:04:00\n",
      "21 days, 0:00:00\n"
     ]
    }
   ],
   "source": [
    "pete_was_born = dt.datetime(1979, 2, 28, 6)\n",
    "print pete_was_born\n",
    "print type(pete_was_born)\n",
    "\n",
    "# get the datetime now!\n",
    "now = dt.datetime.now()\n",
    "print type(now)\n",
    "\n",
    "pete_age = now - pete_was_born\n",
    "print type(pete_age)\n",
    "print pete_age.days\n",
    "\n",
    "print dt.timedelta(days=1, hours=3)\n",
    "print dt.timedelta(days=1, seconds=3)\n",
    "print dt.timedelta(days=1, hours=3, minutes=4)\n",
    "print dt.timedelta(weeks=3)"
   ]
  },
  {
   "cell_type": "code",
   "execution_count": 59,
   "metadata": {
    "collapsed": false
   },
   "outputs": [
    {
     "name": "stdout",
     "output_type": "stream",
     "text": [
      "2016-04-30 12:08:10.953051\n",
      "10 weeks from now it will be Sat Apr 30 12:08:10 2016\n",
      "2016-05-30 12:08:10.953294\n",
      "100 days from now it will be Mon May 30 12:08:10 2016\n"
     ]
    }
   ],
   "source": [
    "# find the date 10 weeks from now\n",
    "# get the datetime now!\n",
    "now = dt.datetime.now()\n",
    "\n",
    "ten_weeks_from_now = now + dt.timedelta(weeks=10)\n",
    "print ten_weeks_from_now\n",
    "print \"10 weeks from now it will be\", ten_weeks_from_now.strftime('%c')\n",
    "\n",
    "# find the date 100 days from now\n",
    "# get the datetime now!\n",
    "now = dt.datetime.now()\n",
    "\n",
    "hundred_days_from_now = now + dt.timedelta(days=100)\n",
    "print hundred_days_from_now\n",
    "print \"100 days from now it will be\", hundred_days_from_now.strftime('%c')"
   ]
  },
  {
   "cell_type": "code",
   "execution_count": null,
   "metadata": {
    "collapsed": true
   },
   "outputs": [],
   "source": []
  }
 ],
 "metadata": {
  "kernelspec": {
   "display_name": "Python 2",
   "language": "python",
   "name": "python2"
  },
  "language_info": {
   "codemirror_mode": {
    "name": "ipython",
    "version": 2
   },
   "file_extension": ".py",
   "mimetype": "text/x-python",
   "name": "python",
   "nbconvert_exporter": "python",
   "pygments_lexer": "ipython2",
   "version": "2.7.10"
  }
 },
 "nbformat": 4,
 "nbformat_minor": 0
}
