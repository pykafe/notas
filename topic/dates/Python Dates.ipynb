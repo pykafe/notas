{
 "cells": [
  {
   "cell_type": "markdown",
   "metadata": {},
   "source": [
    "# DATETIMES\n",
    "Python has useful date objects in the datetime module\n",
    "https://docs.python.org/2/library/datetime.html"
   ]
  },
  {
   "cell_type": "code",
   "execution_count": 6,
   "metadata": {
    "collapsed": false
   },
   "outputs": [
    {
     "name": "stdout",
     "output_type": "stream",
     "text": [
      "2016-02-20\n",
      "<type 'datetime.date'>\n",
      "True\n",
      "5\n"
     ]
    }
   ],
   "source": [
    "import datetime as dt\n",
    "\n",
    "my_date = dt.date(2016, 2, 20)\n",
    "print my_date\n",
    "print type(my_date)\n",
    "print isinstance(my_date, dt.date)\n",
    "print my_date.weekday()"
   ]
  },
  {
   "cell_type": "code",
   "execution_count": null,
   "metadata": {
    "collapsed": true
   },
   "outputs": [],
   "source": [
    "pip install jupyter"
   ]
  },
  {
   "cell_type": "code",
   "execution_count": null,
   "metadata": {
    "collapsed": true
   },
   "outputs": [],
   "source": [
    "jupyter notebook"
   ]
  },
  {
   "cell_type": "code",
   "execution_count": 4,
   "metadata": {
    "collapsed": false
   },
   "outputs": [
    {
     "name": "stdout",
     "output_type": "stream",
     "text": [
      "This is the 20th day of the month\n",
      "This is the 2th month of the year\n",
      "This is hte 2016th year\n"
     ]
    }
   ],
   "source": [
    "import datetime as dt\n",
    "my_date = dt.date(2016, 2, 20)\n",
    "print \"This is the {}th day of the month\".format(my_date.day)\n",
    "print \"This is the {}th month of the year\".format(my_date.month)\n",
    "print \"This is hte {}th year\".format(my_date.year)"
   ]
  },
  {
   "cell_type": "code",
   "execution_count": 11,
   "metadata": {
    "collapsed": false
   },
   "outputs": [
    {
     "name": "stdout",
     "output_type": "stream",
     "text": [
      "3\n",
      "0\n"
     ]
    }
   ],
   "source": [
    "future_date = dt.date(2056, 3, 2)\n",
    "print future_date.weekday()\n",
    "independence=dt.date(2002, 5, 20)\n",
    "print independence.weekday()"
   ]
  },
  {
   "cell_type": "code",
   "execution_count": 12,
   "metadata": {
    "collapsed": false
   },
   "outputs": [
    {
     "name": "stdout",
     "output_type": "stream",
     "text": [
      "2016-02-20\n",
      "5\n"
     ]
    }
   ],
   "source": [
    "today = dt.date.today()\n",
    "print today\n",
    "print today.weekday()"
   ]
  },
  {
   "cell_type": "code",
   "execution_count": 13,
   "metadata": {
    "collapsed": false
   },
   "outputs": [
    {
     "name": "stdout",
     "output_type": "stream",
     "text": [
      "2056-03-02\n",
      "2002-05-20\n",
      "19645 days, 0:00:00\n"
     ]
    }
   ],
   "source": [
    "print future_date\n",
    "print independence\n",
    "print future_date - independence"
   ]
  },
  {
   "cell_type": "code",
   "execution_count": 21,
   "metadata": {
    "collapsed": false
   },
   "outputs": [
    {
     "name": "stdout",
     "output_type": "stream",
     "text": [
      "Days until ano's birthday -41 days, 0:00:00\n",
      "-41 days, 0:00:00\n"
     ]
    }
   ],
   "source": [
    "ano_birthday = dt.date(2016, 1, 10) - today\n",
    "print  \"Days until ano's birthday\", ano_birthday\n",
    "print ano_birthday."
   ]
  },
  {
   "cell_type": "code",
   "execution_count": 14,
   "metadata": {
    "collapsed": false
   },
   "outputs": [
    {
     "name": "stdout",
     "output_type": "stream",
     "text": [
      "2016-02-20\n"
     ]
    }
   ],
   "source": [
    "print today"
   ]
  },
  {
   "cell_type": "code",
   "execution_count": null,
   "metadata": {
    "collapsed": true
   },
   "outputs": [],
   "source": [
    "pint"
   ]
  }
 ],
 "metadata": {
  "kernelspec": {
   "display_name": "Python 2",
   "language": "python",
   "name": "python2"
  },
  "language_info": {
   "codemirror_mode": {
    "name": "ipython",
    "version": 2
   },
   "file_extension": ".py",
   "mimetype": "text/x-python",
   "name": "python",
   "nbconvert_exporter": "python",
   "pygments_lexer": "ipython2",
   "version": "2.7.10"
  }
 },
 "nbformat": 4,
 "nbformat_minor": 0
}
