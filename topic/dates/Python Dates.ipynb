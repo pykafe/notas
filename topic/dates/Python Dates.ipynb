{
 "cells": [
  {
   "cell_type": "markdown",
   "metadata": {},
   "source": [
    "# DATETIMES\n",
    "Python has useful date objects in the datetime module\n",
    "https://docs.python.org/2/library/datetime.html\n",
    "\n",
    "Python date and time objects live in the *datetime* module, which we import that as dt"
   ]
  },
  {
   "cell_type": "code",
   "execution_count": 27,
   "metadata": {
    "collapsed": false
   },
   "outputs": [
    {
     "name": "stdout",
     "output_type": "stream",
     "text": [
      "2016-02-20\n",
      "This is the 20th day of the month\n",
      "This is the 2th month of the year\n",
      "This is the 2016th year\n"
     ]
    }
   ],
   "source": [
    "import datetime as dt\n",
    "\n",
    "# Create a date, pass in year, month and day\n",
    "my_date = dt.date(2016, 2, 20)\n",
    "# print a date displays in standard date format\n",
    "print my_date\n",
    "print \"This is the {}th day of the month\".format(my_date.day)\n",
    "print \"This is the {}th month of the year\".format(my_date.month)\n",
    "print \"This is the {}th year\".format(my_date.year)\n",
    "\n",
    "# creating dates checks that you have chosen good year, month and days values\n",
    "# you cannot create the 31st of February \n",
    "# new_date = dt.date(2016, 2, 31)  # raises exception\n",
    "# you cannot create the 1st of a month that does not exits \n",
    "# new_date = dt.date(2016, 22, 31)  # raises exception\n",
    "# you cannot use years before 1 or after 9999\n",
    "# new_date = dt.date(0, 2, 31)  # raises exception\n",
    "# new_date = dt.date(10000, 2, 31)  # raises exception\n",
    "\n",
    "\n",
    "# date objects are IMMUTABLE\n",
    "# my_date.day = 1  # raises exception"
   ]
  },
  {
   "cell_type": "markdown",
   "metadata": {},
   "source": [
    "# We can access the weekday of any given date\n",
    "What is the day of the week in 2056, the 2nd of March?\n",
    "\n",
    "What was that day of the week in 2002, on the 20th of May?"
   ]
  },
  {
   "cell_type": "code",
   "execution_count": 34,
   "metadata": {
    "collapsed": false
   },
   "outputs": [
    {
     "name": "stdout",
     "output_type": "stream",
     "text": [
      "3\n",
      "0\n"
     ]
    }
   ],
   "source": [
    "future_date = dt.date(2056, 3, 2)\n",
    "print future_date.weekday()\n",
    "\n",
    "independence = dt.date(2002, 5, 20)\n",
    "print independence.weekday()"
   ]
  },
  {
   "cell_type": "markdown",
   "metadata": {},
   "source": [
    "# We can get todays date"
   ]
  },
  {
   "cell_type": "code",
   "execution_count": 32,
   "metadata": {
    "collapsed": false
   },
   "outputs": [
    {
     "name": "stdout",
     "output_type": "stream",
     "text": [
      "2016-02-20\n",
      "5\n"
     ]
    }
   ],
   "source": [
    "today = dt.date.today()\n",
    "print today\n",
    "print today.weekday()"
   ]
  },
  {
   "cell_type": "markdown",
   "metadata": {
    "collapsed": true
   },
   "source": [
    "# We can find the difference between two dates\n",
    "How many days are there between Timor Leste's independence and 2056, the 2nd of March?\n",
    "How many days between today and the 25th of March this year?\n",
    "How many days until Ony's Birthday?\n",
    "How many days until Pete's Birthday?"
   ]
  },
  {
   "cell_type": "code",
   "execution_count": 44,
   "metadata": {
    "collapsed": false
   },
   "outputs": [
    {
     "name": "stdout",
     "output_type": "stream",
     "text": [
      "2056-03-02\n",
      "2002-05-20\n",
      "19645 days, 0:00:00\n",
      "34 days, 0:00:00\n",
      "days until Ony's birthday 15 days, 0:00:00\n",
      "days until Pete's birthday 8 days, 0:00:00\n",
      "Ony was born on day: 6\n"
     ]
    }
   ],
   "source": [
    "# How many days are there between Timor Leste's independence and 2056, the 2nd of March?\n",
    "print future_date\n",
    "print independence\n",
    "print future_date - independence\n",
    "\n",
    "# How many days between today and the 25th of March this year?\n",
    "today = dt.date.today()\n",
    "mar25 = dt.date(2016, 3, 25)\n",
    "print mar25 - today\n",
    "\n",
    "# How many days until Ony's Birthday?\n",
    "ony_birthday = dt.date(2016, 3, 6)\n",
    "print \"days until Ony's birthday\", ony_birthday - today\n",
    "\n",
    "# How many days until Pete's Birthday?\n",
    "print \"days until Pete's birthday\", dt.date(2016, 2, 28) - today\n",
    "\n",
    "# what day of the week was Ony born on?\n",
    "print \"Ony's birthday is on day:\", ony_birthday.weekday()"
   ]
  },
  {
   "cell_type": "markdown",
   "metadata": {},
   "source": [
    "# Printing dates"
   ]
  },
  {
   "cell_type": "code",
   "execution_count": 51,
   "metadata": {
    "collapsed": false
   },
   "outputs": [
    {
     "name": "stdout",
     "output_type": "stream",
     "text": [
      "2016-03-06\n",
      "Sun Sunday March 066\n",
      "Sun Mar  6 00:00:00 2016\n"
     ]
    }
   ],
   "source": [
    "print ony_birthday\n",
    "print ony_birthday.strftime('%a %A %B %j')\n",
    "print ony_birthday.strftime('%c')"
   ]
  }
 ],
 "metadata": {
  "kernelspec": {
   "display_name": "Python 2",
   "language": "python",
   "name": "python2"
  },
  "language_info": {
   "codemirror_mode": {
    "name": "ipython",
    "version": 2
   },
   "file_extension": ".py",
   "mimetype": "text/x-python",
   "name": "python",
   "nbconvert_exporter": "python",
   "pygments_lexer": "ipython2",
   "version": "2.7.10"
  }
 },
 "nbformat": 4,
 "nbformat_minor": 0
}
