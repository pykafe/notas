{
 "cells": [
  {
   "cell_type": "code",
   "execution_count": 1,
   "metadata": {},
   "outputs": [
    {
     "name": "stdout",
     "output_type": "stream",
     "text": [
      "('This the number of missing the values:', [0, 4, 6, 9])\n",
      "This number 2 already exist on the list Please add the missing value on top\n",
      "This number 5 already exist on the list Please add the missing value on top\n",
      "This number 5 already exist on the list Please add the missing value on top\n",
      "This number 1 already exist on the list Please add the missing value on top\n",
      "This number 4 already exist on the list Please add the missing value on top\n",
      "This number 6 already exist on the list Please add the missing value on top\n"
     ]
    },
    {
     "data": {
      "text/plain": [
       "[0, 1, 2, 3, 4, 5, 6, 7, 8, 9, 10]"
      ]
     },
     "execution_count": 1,
     "metadata": {},
     "output_type": "execute_result"
    }
   ],
   "source": [
    "my_list = [1, 2, 3, 5, 7, 8, 10]\n",
    "#my_list = []\n",
    "def missing_values(my_list):\n",
    "    if len(my_list):\n",
    "        lista = []\n",
    "        for item in range(my_list[-1]):\n",
    "            if item not in my_list:\n",
    "                lista.append(item)\n",
    "        print(\"This is the number of missing the values:\", lista)\n",
    "        count = 0\n",
    "        while True:\n",
    "            if len(lista) == count:\n",
    "                break\n",
    "            i = input(\"Please add the missing Value:\")\n",
    "            o = str(i)\n",
    "            var = o.find(',')\n",
    "            if var == ~0 :\n",
    "                i = int(i)\n",
    "                if i not in my_list:\n",
    "                    my_list += [i]\n",
    "                    count += 1\n",
    "                else:\n",
    "                    print(\"This number %s is already exist on the list Please add the missing value on top\" % i)\n",
    "            else:\n",
    "                if len(lista) == count:\n",
    "                    break\n",
    "                else:\n",
    "                    i = input(\"Please add the missing Values:\")\n",
    "                k = []\n",
    "                count_list = []\n",
    "                k.extend(i)\n",
    "                for item in k:\n",
    "                    if item != ',':\n",
    "                        l = int(item)\n",
    "                        if l not in my_list:\n",
    "                            count_list.append(l)\n",
    "                            my_list.append(l)\n",
    "                            u = len(count_list)\n",
    "                            count += u\n",
    "                return sorted(my_list)\n",
    "        return sorted(my_list)\n",
    "    return []\n",
    "missing_values(my_list)"
   ]
  },
  {
   "cell_type": "code",
   "execution_count": null,
   "metadata": {},
   "outputs": [],
   "source": []
  },
  {
   "cell_type": "code",
   "execution_count": null,
   "metadata": {},
   "outputs": [],
   "source": []
  }
 ],
 "metadata": {
  "kernelspec": {
   "display_name": "Python 3",
   "language": "python",
   "name": "python3"
  },
  "language_info": {
   "codemirror_mode": {
    "name": "ipython",
    "version": 2
   },
   "file_extension": ".py",
   "mimetype": "text/x-python",
   "name": "python",
   "nbconvert_exporter": "python",
   "pygments_lexer": "ipython2",
   "version": "2.7.15rc1"
  }
 },
 "nbformat": 4,
 "nbformat_minor": 2
}
