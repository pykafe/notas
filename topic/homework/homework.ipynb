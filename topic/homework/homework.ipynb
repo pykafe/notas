{
 "cells": [
  {
   "cell_type": "markdown",
   "metadata": {},
   "source": [
    "# Challenge #1\n",
    "\n",
    "For any given list\n",
    "Return a dictionary with the key of the list item, and the number of times it occurs in the list\n",
    "\n",
    "## Example\n",
    "\n",
    "`my_list = [1, 1, 3, 2, 4, 4, 4, 'a', 'b', 'a', 'b']`\n",
    "\n",
    "`>>> count_ocurrences(my_list)`\n",
    "\n",
    "{ 1: 2, 3: 1, 2: 1, 4: 3, ‘a’: 2, ‘b’: 2}"
   ]
  },
  {
   "cell_type": "code",
   "execution_count": 1,
   "metadata": {},
   "outputs": [
    {
     "data": {
      "text/plain": [
       "{1: 2, 2: 1, 3: 1, 4: 3, 'a': 2, 'b': 2}"
      ]
     },
     "execution_count": 1,
     "metadata": {},
     "output_type": "execute_result"
    }
   ],
   "source": [
    "my_list = [1, 1, 3, 2, 4, 4, 4, 'a', 'b', 'a', 'b']\n",
    "def count_ocurrences(my_list):\n",
    "    counter = {}\n",
    "    for key in my_list:\n",
    "        counter[key] = my_list.count(key)\n",
    "    return counter\n",
    "count_ocurrences(my_list)   \n",
    "    "
   ]
  },
  {
   "cell_type": "markdown",
   "metadata": {},
   "source": [
    "# Challange #2\n",
    "\n",
    "Given 2 lists, return a dictionary where items from the first lists are the keys and the second list are the values.  If the lists are different lengths throw an error.\n",
    "\n",
    "\n",
    "## example\n",
    "\n",
    "first_list = ['1', '2', '3', 'G']\n",
    "second_list = ['a', 'b', 'b', 'f']\n",
    "\n",
    "make_dictionary(first_list, second_list)\n",
    "\n",
    "{'1': 'a',\n",
    "'2': 'b',\n",
    "'3': 'b',\n",
    "'G': 'f'}\n",
    "\n",
    "you cannot use `zip()` (edited)\n",
    "\n",
    "you cannot use `enumerate()`"
   ]
  },
  {
   "cell_type": "code",
   "execution_count": 2,
   "metadata": {},
   "outputs": [
    {
     "data": {
      "text/plain": [
       "{'1': 'a', '2': 'b', '3': 'b', 'G': 'f'}"
      ]
     },
     "execution_count": 2,
     "metadata": {},
     "output_type": "execute_result"
    }
   ],
   "source": [
    "first_list = ['1', '2', '3', 'G']\n",
    "second_list = ['a', 'b', 'b', 'f']\n",
    "def Range(number):\n",
    "    lista = [0]\n",
    "    while True:\n",
    "        if len(lista) ==  1:\n",
    "            lista.append(len(lista))\n",
    "        elif lista[-1] < number:\n",
    "            lista.append(lista[-1]+1)\n",
    "        elif lista[-1] == number:\n",
    "                break\n",
    "    for item in lista[0:number]:\n",
    "        yield item\n",
    "\n",
    "def My_Enumerate(first_list):\n",
    "    Enumerate = []\n",
    "    for item in Range(len(first_list)):\n",
    "         Enumerate.append([item, first_list[item]])\n",
    "    return Enumerate\n",
    "\n",
    "def make_dictionary(first_list, second_list):\n",
    "    dictionary = {}\n",
    "    for index, key in My_Enumerate(first_list):\n",
    "        dictionary[key] = second_list[index]\n",
    "    return dictionary\n",
    "\n",
    "make_dictionary(first_list, second_list)"
   ]
  },
  {
   "cell_type": "markdown",
   "metadata": {},
   "source": [
    "# Challenge #3\n",
    "\n",
    "Given a dictionary where all of the values are numeric\n",
    "create a bar chart in a python notebook\n",
    "display the barchart inline (i.e. in the note book not in a file)\n",
    "\n",
    "## example\n",
    "`my_dictionary = {1: 2, 2: 1, 3: 1, 4: 3, 'a': 2, 'b': 2}`\n",
    "\n",
    "[pretty bar chart appears here]\n",
    "\n",
    "Challenge 1, 2, and 3 are due by Wednesday!\n",
    "\n",
    "Don’t forget Wednesday night is Databases with Wicher"
   ]
  },
  {
   "cell_type": "code",
   "execution_count": null,
   "metadata": {},
   "outputs": [],
   "source": [
    "%matplotlib inline\n",
    "import matplotlib.pyplot as plt; plt.rcdefaults()\n",
    "import numpy as np\n",
    "import matplotlib.pyplot as plt\n",
    "\n",
    "my_list = [1, 1, 3, 2, 4, 4, 4, 'a', 'b', 'a', 'b']\n",
    "def count_ocurrences(my_list):\n",
    "    counter = {}\n",
    "    for key in my_list:\n",
    "        counter[key] = my_list.count(key)\n",
    "    return counter\n",
    "\n",
    "def barchart():\n",
    "    counter = count_ocurrences(my_list)\n",
    "    objects = tuple(counter.keys())\n",
    "    y_pos = np.arange(len(objects))\n",
    "    performance = list(counter.values())\n",
    "    plt.bar(y_pos, performance, align='center', alpha=0.5)\n",
    "    plt.xticks(y_pos, objects)\n",
    "    plt.ylabel('High')\n",
    "    plt.title('Counter')\n",
    "    plt.show()\n",
    "\n",
    "if __name__ == '__main__':\n",
    "    barchart()"
   ]
  }
 ],
 "metadata": {
  "kernelspec": {
   "display_name": "Python 3",
   "language": "python",
   "name": "python3"
  },
  "language_info": {
   "codemirror_mode": {
    "name": "ipython",
    "version": 2
   },
   "file_extension": ".py",
   "mimetype": "text/x-python",
   "name": "python",
   "nbconvert_exporter": "python",
   "pygments_lexer": "ipython2",
   "version": "2.7.15rc1"
  }
 },
 "nbformat": 4,
 "nbformat_minor": 2
}
