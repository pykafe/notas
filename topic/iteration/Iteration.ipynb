{
 "cells": [
  {
   "cell_type": "markdown",
   "metadata": {},
   "source": [
    "### String formatting"
   ]
  },
  {
   "cell_type": "code",
   "execution_count": 12,
   "metadata": {
    "collapsed": false
   },
   "outputs": [
    {
     "name": "stdout",
     "output_type": "stream",
     "text": [
      " Bondia Tiu ! manas loos ohin loron\n",
      "Bondia Tiu! Manas loos ohin loron\n",
      "Bondia Tiu! Manas loos ohin loron\n"
     ]
    }
   ],
   "source": [
    "# It is hard to print strings like this\n",
    "name = \"Tiu\"\n",
    "tempu = \"manas\"\n",
    "print \"Bondia\", name, \"!\", tempu, \"loos ohin loron\"\n",
    "\n",
    "# it is easy to print strings like this\n",
    "print \"Bondia {}! {} loos ohin loron\".format(\"Tiu\", \"Manas\")\n",
    "# name your replacements to make things easy to understand for coders and translators\n",
    "print \"Bondia {name}! {tempu} loos ohin loron\".format(name=\"Tiu\", tempu=\"Manas\")\n"
   ]
  },
  {
   "cell_type": "markdown",
   "metadata": {},
   "source": [
    "# Iteration"
   ]
  },
  {
   "cell_type": "markdown",
   "metadata": {},
   "source": [
    "In Django we mostly iterate over lists, or dictionaries"
   ]
  },
  {
   "cell_type": "code",
   "execution_count": 14,
   "metadata": {
    "collapsed": false
   },
   "outputs": [
    {
     "name": "stdout",
     "output_type": "stream",
     "text": [
      "Ano iha letra 3 iha nia naran\n",
      "Niko iha letra 4 iha nia naran\n",
      "Mario iha letra 5 iha nia naran\n",
      "Ony iha letra 3 iha nia naran\n",
      "Nando iha letra 5 iha nia naran\n",
      "Pete iha letra 4 iha nia naran\n",
      "Anders iha letra 6 iha nia naran\n",
      "David iha letra 5 iha nia naran\n",
      "35 letra hotu\n"
     ]
    }
   ],
   "source": [
    "# Iterating over a list\n",
    "ema = ['Ano', 'Niko', 'Mario', 'Ony', 'Nando', 'Pete', 'Anders', 'David']\n",
    "\n",
    "# Letra hira iha naran?\n",
    "letra_hira = 0\n",
    "for naran in ema:\n",
    "    print \"{name} iha letra {num} iha nia naran\".format(\n",
    "        num=len(naran),\n",
    "        name=naran\n",
    "    )\n",
    "    # add the count of letters\n",
    "    letra_hira += len(naran)\n",
    "\n",
    "# how many letters in total?\n",
    "print \"{num} letra hotu\".format(num=letra_hira)"
   ]
  },
  {
   "cell_type": "code",
   "execution_count": 21,
   "metadata": {
    "collapsed": false
   },
   "outputs": [
    {
     "name": "stdout",
     "output_type": "stream",
     "text": [
      "Anders is from Eraulo\n",
      "Pete is from London\n",
      "Nando is from Ermera\n",
      "Mario is from Manatuto\n"
     ]
    }
   ],
   "source": [
    "# Iterating over a dictionary\n",
    "ema_husi_distritu = {\n",
    "    'Ermera': 'Nando',\n",
    "    'Manatuto': 'Mario',\n",
    "    'London': 'Pete',\n",
    "    'Eraulo': 'Anders',\n",
    "}\n",
    "\n",
    "# normal iterations yield keys\n",
    "for district in ema_husi_distritu:\n",
    "    print \"{name} is from {from_district}\".format(\n",
    "        name=ema_husi_distritu[district],\n",
    "        from_district=district\n",
    "    )\n"
   ]
  },
  {
   "cell_type": "code",
   "execution_count": 40,
   "metadata": {
    "collapsed": false
   },
   "outputs": [
    {
     "name": "stdout",
     "output_type": "stream",
     "text": [
      "Pete husi London\n",
      "Mario husi Manatuto\n",
      "Ano husi Ermera\n",
      "Niko husi Bobonaro\n",
      "Nando husi Ermera\n",
      "Ony husi Bobonaro\n",
      "Anders husi Ermera\n",
      "Pete husi London\n",
      "Mario husi Manatuto\n",
      "Ano husi Ermera\n",
      "Niko husi Bobonaro\n",
      "Nando husi Ermera\n",
      "Ony husi Bobonaro\n",
      "Anders husi Ermera\n"
     ]
    }
   ],
   "source": [
    "ema_husi_distritu_2 = {\n",
    "    'Ano': 'Ermera',\n",
    "    'Nando': 'Ermera',\n",
    "    'Anders': 'Ermera',\n",
    "    'Mario': 'Manatuto',\n",
    "    'Pete': 'London',\n",
    "    'Niko': 'Bobonaro',\n",
    "    'Ony': 'Bobonaro',\n",
    "}\n",
    "\n",
    "# normally iteration yields just keys from dictionaries\n",
    "for name in ema_husi_distritu_2:\n",
    "    print \"{name_value} husi {district}\".format(\n",
    "        name_value=name,\n",
    "        district=ema_husi_distritu_2[name]\n",
    "    )\n",
    "\n",
    "# use .items() to yield key and value in one statement\n",
    "for name, district in ema_husi_distritu_2.items():\n",
    "    print name, \"husi\", district\n",
    "    "
   ]
  },
  {
   "cell_type": "markdown",
   "metadata": {},
   "source": [
    "# We can also iterate using While"
   ]
  },
  {
   "cell_type": "code",
   "execution_count": 1,
   "metadata": {
    "collapsed": false
   },
   "outputs": [
    {
     "name": "stdout",
     "output_type": "stream",
     "text": [
      "x is 0\n",
      "x is 1\n",
      "x is 2\n",
      "x is 3\n",
      "x is 4\n"
     ]
    }
   ],
   "source": [
    "x = 0\n",
    "while x < 5:\n",
    "    print \"x is {}\".format(x)\n",
    "    x = x + 1"
   ]
  },
  {
   "cell_type": "code",
   "execution_count": 4,
   "metadata": {
    "collapsed": false
   },
   "outputs": [
    {
     "name": "stdout",
     "output_type": "stream",
     "text": [
      "executing code in while loop 1\n",
      "executing code in while loop 2\n",
      "executing code in while loop 3\n",
      "executing code in while loop 4\n",
      "executing code in while loop 5\n",
      "6 is now greater than 5\n"
     ]
    },
    {
     "data": {
      "text/plain": [
       "15"
      ]
     },
     "execution_count": 4,
     "metadata": {},
     "output_type": "execute_result"
    }
   ],
   "source": [
    "def sum_of_integers(maximum):\n",
    "    ''' return the sum of all the integers up to maximum\n",
    "    hint: create a total_sum variable value 0, and a counter variable value 1\n",
    "    WHILE the counter is less than OR EQUAL TO the maximum, add the counter to the total_sum, add 1 to the counter\n",
    "    after the while loop has exited, return the total_sum\n",
    "    '''\n",
    "    total_sum = 0\n",
    "    x = 1\n",
    "    while x <= maximum:\n",
    "        print \"executing code in while loop\", x\n",
    "        total_sum = total_sum + x\n",
    "        x = x + 1\n",
    "    \n",
    "    print x, \"is now greater than\", maximum\n",
    "    return total_sum\n",
    "\n",
    "sum_of_integers(5)"
   ]
  },
  {
   "cell_type": "code",
   "execution_count": 17,
   "metadata": {
    "collapsed": false
   },
   "outputs": [
    {
     "data": {
      "text/plain": [
       "[4, 8, 12, 16, 20, 24, 28, 32, 36, 40]"
      ]
     },
     "execution_count": 17,
     "metadata": {},
     "output_type": "execute_result"
    }
   ],
   "source": [
    "def ten_multiples_of(number):\n",
    "    ''' return a list containing 10 multiples of the input parameter number\n",
    "    hint: create an empty list, and a counter variable value 1\n",
    "    WHILE the length of the list is less than 10, append counter * number to the list, add 1 to the counter\n",
    "    after the while loop has exited, return the list\n",
    "    '''\n",
    "    multiples = []\n",
    "    x = 1\n",
    "    while len(multiples) < 10:     # while the length of the list is less than 10\n",
    "        multiple = number * x      # create a multiple of our parameter\n",
    "        multiples.append(multiple) # add that multiple to our list\n",
    "        x = x + 1                  # add one to our multiplier\n",
    "\n",
    "    return multiples\n",
    "    \n",
    "ten_multiples_of(4)"
   ]
  },
  {
   "cell_type": "code",
   "execution_count": 25,
   "metadata": {
    "collapsed": false
   },
   "outputs": [
    {
     "name": "stdout",
     "output_type": "stream",
     "text": [
      "945\n",
      "945\n"
     ]
    }
   ],
   "source": [
    "def mulitply_odd_numbers_until(maximum):\n",
    "    ''' return the value of multiplying together all the odd integers up to maximum\n",
    "    '''\n",
    "    product = 1\n",
    "    x = 1\n",
    "    while x <= maximum:\n",
    "        if x % 2 == 1:\n",
    "            product = product * x\n",
    "        x = x + 1\n",
    "        \n",
    "    return product\n",
    "\n",
    "print mulitply_odd_numbers_until(10)\n",
    "\n",
    "print 1*3*5*7*9"
   ]
  },
  {
   "cell_type": "code",
   "execution_count": 36,
   "metadata": {
    "collapsed": false
   },
   "outputs": [
    {
     "name": "stdout",
     "output_type": "stream",
     "text": [
      "sum: 5\n",
      "product:  6\n"
     ]
    }
   ],
   "source": [
    "def sum_and_product(in_list):\n",
    "    ''' return 2 values from this function - a tuple\n",
    "    the first value is the sum of all the values in the list\n",
    "    the second value is the product of all the values in the list\n",
    "    sum_and_product([2, 3]) == (5, 6)\n",
    "    sum_and_product([2, 4, 6]) == (12, 48)\n",
    "    '''\n",
    "    list_product = 1\n",
    "    for item in in_list:\n",
    "        list_product = list_product * item\n",
    "        \n",
    "    return sum(in_list), list_product\n",
    "\n",
    "\n",
    "list_sum, list_product = sum_and_product([2, 3])\n",
    "print \"sum:\", list_sum\n",
    "print \"product: \", list_product\n"
   ]
  }
 ],
 "metadata": {
  "kernelspec": {
   "display_name": "Python 2",
   "language": "python",
   "name": "python2"
  },
  "language_info": {
   "codemirror_mode": {
    "name": "ipython",
    "version": 2
   },
   "file_extension": ".py",
   "mimetype": "text/x-python",
   "name": "python",
   "nbconvert_exporter": "python",
   "pygments_lexer": "ipython2",
   "version": "2.7.10"
  }
 },
 "nbformat": 4,
 "nbformat_minor": 0
}
