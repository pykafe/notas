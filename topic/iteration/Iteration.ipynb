{
 "cells": [
  {
   "cell_type": "markdown",
   "metadata": {},
   "source": [
    "# Iteration"
   ]
  },
  {
   "cell_type": "code",
   "execution_count": 1,
   "metadata": {
    "collapsed": false
   },
   "outputs": [
    {
     "name": "stdout",
     "output_type": "stream",
     "text": [
      "x is 0\n",
      "x is 1\n",
      "x is 2\n",
      "x is 3\n",
      "x is 4\n"
     ]
    }
   ],
   "source": [
    "x = 0\n",
    "while x < 5:\n",
    "    print \"x is {}\".format(x)\n",
    "    x = x + 1"
   ]
  },
  {
   "cell_type": "code",
   "execution_count": 4,
   "metadata": {
    "collapsed": false
   },
   "outputs": [
    {
     "name": "stdout",
     "output_type": "stream",
     "text": [
      "executing code in while loop 1\n",
      "executing code in while loop 2\n",
      "executing code in while loop 3\n",
      "executing code in while loop 4\n",
      "executing code in while loop 5\n",
      "6 is now greater than 5\n"
     ]
    },
    {
     "data": {
      "text/plain": [
       "15"
      ]
     },
     "execution_count": 4,
     "metadata": {},
     "output_type": "execute_result"
    }
   ],
   "source": [
    "def sum_of_integers(maximum):\n",
    "    ''' return the sum of all the integers up to maximum\n",
    "    hint: create a total_sum variable value 0, and a counter variable value 1\n",
    "    WHILE the counter is less than OR EQUAL TO the maximum, add the counter to the total_sum, add 1 to the counter\n",
    "    after the while loop has exited, return the total_sum\n",
    "    '''\n",
    "    total_sum = 0\n",
    "    x = 1\n",
    "    while x <= maximum:\n",
    "        print \"executing code in while loop\", x\n",
    "        total_sum = total_sum + x\n",
    "        x = x + 1\n",
    "    \n",
    "    print x, \"is now greater than\", maximum\n",
    "    return total_sum\n",
    "\n",
    "sum_of_integers(5)"
   ]
  },
  {
   "cell_type": "code",
   "execution_count": 17,
   "metadata": {
    "collapsed": false
   },
   "outputs": [
    {
     "data": {
      "text/plain": [
       "[4, 8, 12, 16, 20, 24, 28, 32, 36, 40]"
      ]
     },
     "execution_count": 17,
     "metadata": {},
     "output_type": "execute_result"
    }
   ],
   "source": [
    "def ten_multiples_of(number):\n",
    "    ''' return a list containing 10 multiples of the input parameter number\n",
    "    hint: create an empty list, and a counter variable value 1\n",
    "    WHILE the length of the list is less than 10, append counter * number to the list, add 1 to the counter\n",
    "    after the while loop has exited, return the list\n",
    "    '''\n",
    "    multiples = []\n",
    "    x = 1\n",
    "    while len(multiples) < 10:     # while the length of the list is less than 10\n",
    "        multiple = number * x      # create a multiple of our parameter\n",
    "        multiples.append(multiple) # add that multiple to our list\n",
    "        x = x + 1                  # add one to our multiplier\n",
    "\n",
    "    return multiples\n",
    "    \n",
    "ten_multiples_of(4)"
   ]
  },
  {
   "cell_type": "code",
   "execution_count": 25,
   "metadata": {
    "collapsed": false
   },
   "outputs": [
    {
     "name": "stdout",
     "output_type": "stream",
     "text": [
      "945\n",
      "945\n"
     ]
    }
   ],
   "source": [
    "def mulitply_odd_numbers_until(maximum):\n",
    "    ''' return the value of multiplying together all the odd integers up to maximum\n",
    "    '''\n",
    "    product = 1\n",
    "    x = 1\n",
    "    while x <= maximum:\n",
    "        if x % 2 == 1:\n",
    "            product = product * x\n",
    "        x = x + 1\n",
    "        \n",
    "    return product\n",
    "\n",
    "print mulitply_odd_numbers_until(10)\n",
    "\n",
    "print 1*3*5*7*9"
   ]
  },
  {
   "cell_type": "code",
   "execution_count": 36,
   "metadata": {
    "collapsed": false
   },
   "outputs": [
    {
     "name": "stdout",
     "output_type": "stream",
     "text": [
      "sum: 5\n",
      "product:  6\n"
     ]
    }
   ],
   "source": [
    "def sum_and_product(in_list):\n",
    "    ''' return 2 values from this function - a tuple\n",
    "    the first value is the sum of all the values in the list\n",
    "    the second value is the product of all the values in the list\n",
    "    sum_and_product([2, 3]) == (5, 6)\n",
    "    sum_and_product([2, 4, 6]) == (12, 48)\n",
    "    '''\n",
    "    list_product = 1\n",
    "    for item in in_list:\n",
    "        list_product = list_product * item\n",
    "        \n",
    "    return sum(in_list), list_product\n",
    "\n",
    "\n",
    "list_sum, list_product = sum_and_product([2, 3])\n",
    "print \"sum:\", list_sum\n",
    "print \"product: \", list_product\n"
   ]
  }
 ],
 "metadata": {
  "kernelspec": {
   "display_name": "Python 2",
   "language": "python",
   "name": "python2"
  },
  "language_info": {
   "codemirror_mode": {
    "name": "ipython",
    "version": 2
   },
   "file_extension": ".py",
   "mimetype": "text/x-python",
   "name": "python",
   "nbconvert_exporter": "python",
   "pygments_lexer": "ipython2",
   "version": "2.7.10"
  }
 },
 "nbformat": 4,
 "nbformat_minor": 0
}
